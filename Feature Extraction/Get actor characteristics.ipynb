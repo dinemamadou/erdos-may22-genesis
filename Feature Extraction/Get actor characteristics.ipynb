{
 "cells": [
  {
   "cell_type": "markdown",
   "id": "43db7f1e",
   "metadata": {},
   "source": [
    "# Get actor characteristics\n",
    "In this file, we add the actor demographics (age, sex, race, and ethnicity) to the data files that contain the mid features.\n",
    "\n",
    "## Load modules"
   ]
  },
  {
   "cell_type": "code",
   "execution_count": null,
   "id": "0bf9229d",
   "metadata": {},
   "outputs": [],
   "source": [
    "from pyAudioAnalysis import ShortTermFeatures as aF\n",
    "from pyAudioAnalysis import audioBasicIO as aIO \n",
    "from pyAudioAnalysis import MidTermFeatures as mF\n",
    "import numpy as np \n",
    "import plotly.graph_objs as go \n",
    "import plotly\n",
    "import IPython\n",
    "\n",
    "import pandas as pd\n",
    "\n",
    "import os, shutil\n",
    "import time\n",
    "\n",
    "import matplotlib.pyplot as plt\n",
    "\n",
    "import random"
   ]
  },
  {
   "cell_type": "markdown",
   "id": "ce6863e7",
   "metadata": {},
   "source": [
    "## Load data"
   ]
  },
  {
   "cell_type": "code",
   "execution_count": null,
   "id": "dadb4dcf",
   "metadata": {},
   "outputs": [],
   "source": [
    "# Load the file that contains actor ids and characteristics\n",
    "actor_data = pd.read_csv('../VideoDemographics.csv')"
   ]
  },
  {
   "cell_type": "code",
   "execution_count": null,
   "id": "d314e424",
   "metadata": {},
   "outputs": [],
   "source": [
    "# Load the mid term features data for the training and test sets\n",
    "mid_data_train = pd.read_csv('Data/Mid_features/midFeaturesTrainSetFinal2.csv')\n",
    "mid_data_test = pd.read_csv('Data/Mid_features/midFeaturesTestSetFinal2.csv')"
   ]
  },
  {
   "cell_type": "markdown",
   "id": "179118d0",
   "metadata": {},
   "source": [
    "## Extract demographics\n",
    "Use the Data Frame `actor_data` to build dicts mapping each `Actor_ID` to the actor's demographics."
   ]
  },
  {
   "cell_type": "code",
   "execution_count": null,
   "id": "baf658fb",
   "metadata": {},
   "outputs": [],
   "source": [
    "age_dict = {}\n",
    "sex_dict = {}\n",
    "race_dict = {}\n",
    "ethnicity_dict = {}\n",
    "\n",
    "for i in actor_data.index:\n",
    "    actor_id = actor_data.at[i, 'ActorID']\n",
    "    actor_age = actor_data.at[i, 'Age']\n",
    "    actor_sex = actor_data.at[i, 'Sex']\n",
    "    actor_race = actor_data.at[i, 'Race']\n",
    "    actor_ethnicity = actor_data.at[i, 'Ethnicity']\n",
    "    age_dict[actor_id] = actor_age\n",
    "    sex_dict[actor_id] = actor_sex\n",
    "    race_dict[actor_id] = actor_race\n",
    "    ethnicity_dict[actor_id] = actor_ethnicity"
   ]
  },
  {
   "cell_type": "markdown",
   "id": "f75c7ce5",
   "metadata": {},
   "source": [
    "To ensure that we are adding the correct demographics to each row of `mid_data_train` and `mid_data_test`, we build lists of demographics in the same order that actors appear in those dataframes.\n",
    "\n",
    "For example, if the first three ActorIDs in `mid_data_train` are `1001`, `1005`, `1008`, the lists have the demographics for those actors in the first three entries."
   ]
  },
  {
   "cell_type": "code",
   "execution_count": null,
   "id": "01d3336a",
   "metadata": {},
   "outputs": [],
   "source": [
    "# Get lists of characteristics in the order actors appear in mid_data_train:\n",
    "age_list_train = []\n",
    "sex_list_train = []\n",
    "race_list_train = []\n",
    "ethnicity_list_train = []\n",
    "\n",
    "\n",
    "for j in mid_data_train.index:\n",
    "    age = age_dict[mid_data_train.at[j, 'ActorID']]\n",
    "    age_list_train.append(age)\n",
    "    \n",
    "    sex = sex_dict[mid_data_train.at[j, 'ActorID']]\n",
    "    sex_list_train.append(sex)\n",
    "    \n",
    "    race = race_dict[mid_data_train.at[j, 'ActorID']]\n",
    "    race_list_train.append(race)\n",
    "    \n",
    "    ethnicity = ethnicity_dict[mid_data_train.at[j, 'ActorID']]\n",
    "    ethnicity_list_train.append(ethnicity)\n",
    "    \n",
    "# Get lists of characteristics in the order actors appear in mid_data_test:\n",
    "age_list_test = []\n",
    "sex_list_test = []\n",
    "race_list_test = []\n",
    "ethnicity_list_test = []\n",
    "\n",
    "\n",
    "for j in mid_data_test.index:\n",
    "    age = age_dict[mid_data_test.at[j, 'ActorID']]\n",
    "    age_list_test.append(age)\n",
    "    \n",
    "    sex = sex_dict[mid_data_test.at[j, 'ActorID']]\n",
    "    sex_list_test.append(sex)\n",
    "    \n",
    "    race = race_dict[mid_data_test.at[j, 'ActorID']]\n",
    "    race_list_test.append(race)\n",
    "    \n",
    "    ethnicity = ethnicity_dict[mid_data_test.at[j, 'ActorID']]\n",
    "    ethnicity_list_test.append(ethnicity)"
   ]
  },
  {
   "cell_type": "markdown",
   "id": "bb00fb03",
   "metadata": {},
   "source": [
    "## Add demographics"
   ]
  },
  {
   "cell_type": "code",
   "execution_count": null,
   "id": "97337e0d",
   "metadata": {},
   "outputs": [],
   "source": [
    "# Add the characteristics columns to mid_data_train:\n",
    "mid_data_train.insert(4, 'Age', age_list_train)\n",
    "mid_data_train.insert(5, 'Sex', sex_list_train)\n",
    "mid_data_train.insert(6, 'Race', race_list_train)\n",
    "mid_data_train.insert(7, 'Ethnicity', ethnicity_list_train)"
   ]
  },
  {
   "cell_type": "code",
   "execution_count": null,
   "id": "055f21d8",
   "metadata": {},
   "outputs": [],
   "source": [
    "mid_data_train.head()"
   ]
  },
  {
   "cell_type": "code",
   "execution_count": null,
   "id": "8d818c48",
   "metadata": {},
   "outputs": [],
   "source": [
    "# Add the characteristics columns to mid_data_test:\n",
    "mid_data_test.insert(4, 'Age', age_list_test)\n",
    "mid_data_test.insert(5, 'Sex', sex_list_test)\n",
    "mid_data_test.insert(6, 'Race', race_list_test)\n",
    "mid_data_test.insert(7, 'Ethnicity', ethnicity_list_test)"
   ]
  },
  {
   "cell_type": "code",
   "execution_count": null,
   "id": "b90cb4ea",
   "metadata": {},
   "outputs": [],
   "source": [
    "mid_data_test.head()"
   ]
  },
  {
   "cell_type": "markdown",
   "id": "277089ed",
   "metadata": {},
   "source": [
    "## Save files"
   ]
  },
  {
   "cell_type": "code",
   "execution_count": null,
   "id": "c45af7ef",
   "metadata": {},
   "outputs": [],
   "source": [
    "# Save the files to csv\n",
    "mid_data_train.to_csv('midFeaturesTrainSetWithChars.csv', index=False)\n",
    "mid_data_test.to_csv('midFeaturesTestSetWithChars.csv', index=False)"
   ]
  }
 ],
 "metadata": {
  "kernelspec": {
   "display_name": "Python 3",
   "language": "python",
   "name": "python3"
  },
  "language_info": {
   "codemirror_mode": {
    "name": "ipython",
    "version": 3
   },
   "file_extension": ".py",
   "mimetype": "text/x-python",
   "name": "python",
   "nbconvert_exporter": "python",
   "pygments_lexer": "ipython3",
   "version": "3.9.7"
  }
 },
 "nbformat": 4,
 "nbformat_minor": 5
}

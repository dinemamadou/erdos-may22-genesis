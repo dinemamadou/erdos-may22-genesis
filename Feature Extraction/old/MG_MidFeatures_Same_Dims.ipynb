{
 "cells": [
  {
   "cell_type": "markdown",
   "id": "59887448",
   "metadata": {},
   "source": [
    "# Extract uniform Mid Features\n",
    "This script selected the mid window size so that every audio clip had the same number of mid-term  features, regardless of the length of the clip.\n",
    "\n",
    "We never came back to this idea, but we keep it for reference."
   ]
  },
  {
   "cell_type": "code",
   "execution_count": null,
   "id": "6f362b6a",
   "metadata": {},
   "outputs": [],
   "source": [
    "from pyAudioAnalysis import ShortTermFeatures as aF\n",
    "from pyAudioAnalysis import MidTermFeatures as mF\n",
    "from pyAudioAnalysis import audioBasicIO as aIO \n",
    "\n",
    "import numpy as np\n",
    "import pandas as pd\n",
    "\n",
    "import os\n",
    "import time\n",
    "\n",
    "\n",
    "import matplotlib.pyplot as plt\n",
    "import seaborn as sns\n",
    "\n",
    "files = os.listdir('../Data/Train_final/')\n",
    "df_cats = pd.read_csv('../Data/Categories_train.csv')\n",
    "\n",
    "# Sort files and df_cats\n",
    "files.sort()\n",
    "df_cats = df_cats.sort_values(by='FileID', ascending=True)"
   ]
  },
  {
   "cell_type": "code",
   "execution_count": null,
   "id": "913e2bc5",
   "metadata": {},
   "outputs": [],
   "source": [
    "def display_time(seconds):\n",
    "    if seconds <= 60:\n",
    "        print('Duration: %f (s)' %seconds)\n",
    "    elif 60 < seconds <= 3600:\n",
    "        print('Duration: %f (min)' %(seconds/60))\n",
    "    else:\n",
    "        print('Duration: %f (h)' %(seconds/3600))"
   ]
  },
  {
   "cell_type": "markdown",
   "id": "cd9a241e",
   "metadata": {},
   "source": [
    "Load the clips and compute the length"
   ]
  },
  {
   "cell_type": "code",
   "execution_count": null,
   "id": "47232b9c",
   "metadata": {},
   "outputs": [],
   "source": [
    "time_start = time.time()\n",
    "\n",
    "# Load audio files and calculate the longest length\n",
    "Fs = []\n",
    "Signals = []\n",
    "df_cats['Length'] = 0\n",
    "for file in files:\n",
    "    fs, s = aIO.read_audio_file('../Data/Train_final/%s' %file)\n",
    "    Fs.append(fs)\n",
    "    Signals.append(s)\n",
    "    \n",
    "    # Compute the length of the clip\n",
    "    df_cats.loc[df_cats.FileID==file.split('.')[0], 'Length'] = len(s)/fs\n",
    "\n",
    "print('Number of files: %i' %(len(files)))\n",
    "time_end = time.time()\n",
    "display_time(time_end-time_start)"
   ]
  },
  {
   "cell_type": "markdown",
   "id": "b7d6ab05",
   "metadata": {},
   "source": [
    "## Extract features\n",
    "\n",
    "Select the number of midFeatures to extract, and calculate the window size to get that number of features.\n",
    "\n",
    "Possibly because of approximation errors, sometimes we don't get the correct number of features. If that's the case, we either add or subtract `delta` from `mid_step` until we get the correct number of features.\n",
    "\n",
    "There is a small technical issue, though. Sometimes, we get more features than we need when we add `delta` to `mid_step`, but less features when we subtract `delta`. For that reason, we also modify `delta` as we go. If we add and then subtract `delta` in consecutive steps, we divide `delta` by 2. This algorithm is inspired by midpoint optimization."
   ]
  },
  {
   "cell_type": "code",
   "execution_count": null,
   "id": "5a38d32a",
   "metadata": {
    "scrolled": true
   },
   "outputs": [],
   "source": [
    "nMidFeatures = 5\n",
    "\n",
    "# Select short window and step size\n",
    "s_win  = 0.050\n",
    "s_step = 0.025\n",
    "df_cats['mid_win'] = 0\n",
    "df_cats['mid_step'] = 0\n",
    "\n",
    "time_start = time.time()\n",
    "for i in range(len(files)):\n",
    "# for i in range(100):\n",
    "    file = files[i].split('.')[0]\n",
    "    s = Signals[i]\n",
    "    fs = Fs[i]\n",
    "\n",
    "    # Length of the clip\n",
    "    L = len(s)/fs\n",
    "\n",
    "    # Obtain nMidFeatures steps\n",
    "    mid_step = L/nMidFeatures\n",
    "    mid_win = 2*mid_step\n",
    "\n",
    "    # Extract mid and short term features\n",
    "    correct_size = False\n",
    "    increasing = True\n",
    "    while not correct_size:\n",
    "        mt, st, mt_names = mF.mid_feature_extraction(s, fs,\n",
    "                                                     fs*mid_win, fs*mid_step, \n",
    "                                                     fs*s_win,   fs*s_step)\n",
    "        \n",
    "        \n",
    "        delta = 0.05\n",
    "        # If we have the correct number of features, we're done\n",
    "        if mt.shape[1] == nMidFeatures:\n",
    "            correct_size = True\n",
    "        \n",
    "        # If not, we change the window size until we get the right number of features\n",
    "        elif mt.shape[1] > nMidFeatures:\n",
    "            print('Problem: %i' %(i))\n",
    "            print('Size: %i' %(mt.shape[1]))\n",
    "            \n",
    "            # If the last step decreased delta, we divide delta by 2\n",
    "            if not increasing:\n",
    "                delta /= 2\n",
    "                increasing = True\n",
    "            \n",
    "            mid_step += delta\n",
    "            mid_win = 2*mid_step\n",
    "        elif mt.shape[1] < nMidFeatures:\n",
    "            print('Problem: %i' %(i))\n",
    "            print('Size: %i' %(mt.shape[1]))\n",
    "            \n",
    "            # If the last step increased delta, we divide delta by 2\n",
    "            if increasing:\n",
    "                delta /= 2\n",
    "                increasing = False\n",
    "            \n",
    "            mid_step -= delta\n",
    "            mid_win = 2*mid_step\n",
    "    \n",
    "    if i%100==0:\n",
    "        print('---------------------------')\n",
    "        print(i)\n",
    "        print('---------------------------')\n",
    "\n",
    "    # Create dataframes in the first iteration\n",
    "    if i==0:\n",
    "        # Names for short term features\n",
    "        st_names = ['_'.join(name.split('_')[:-1]) for name in mt_names[:68]]\n",
    "\n",
    "        # Dataframe to hold mid term features\n",
    "        df_mt = pd.DataFrame()\n",
    "    \n",
    "    # Save short term features to disk\n",
    "    df_short = pd.DataFrame(data=st.T, columns=st_names)\n",
    "    df_short.to_csv('Features_Unif_Length/%s_short.csv' %file, index=False)\n",
    "\n",
    "    # Save mid term features to the dataframe\n",
    "    # Rename columns to col_1, ..., col_5\n",
    "    df_temp = pd.DataFrame(mt.T, columns=mt_names)\n",
    "    df_temp.index = df_temp.index + 1\n",
    "    df_temp = df_temp.stack()\n",
    "    df_temp.index = df_temp.index.map('{0[1]}_{0[0]}'.format)\n",
    "    df_temp = df_temp.to_frame().T\n",
    "    \n",
    "    # Also save the time windows\n",
    "    df_temp.insert(0, 'FileID', file)\n",
    "    df_temp.insert(1, 'Length', L)\n",
    "    df_temp.insert(2, 'mid_win', mid_win)\n",
    "    df_temp.insert(3, 'mid_step', mid_step)\n",
    "    \n",
    "    df_mt = pd.concat((df_mt, df_temp))\n",
    "\n",
    "time_end = time.time()\n",
    "display_time(time_end-time_start)"
   ]
  },
  {
   "cell_type": "code",
   "execution_count": null,
   "id": "e53aa4a6",
   "metadata": {},
   "outputs": [],
   "source": [
    "df_mt"
   ]
  },
  {
   "cell_type": "code",
   "execution_count": null,
   "id": "a9396d65",
   "metadata": {},
   "outputs": [],
   "source": [
    "df_cats"
   ]
  },
  {
   "cell_type": "code",
   "execution_count": null,
   "id": "8e39bf15",
   "metadata": {},
   "outputs": [],
   "source": [
    "df_mt.to_csv('Features/MidLength_Uniform.csv', index=False)"
   ]
  },
  {
   "cell_type": "markdown",
   "id": "40f60b4a",
   "metadata": {},
   "source": [
    "## Visualization\n",
    "Try to visualize features"
   ]
  },
  {
   "cell_type": "code",
   "execution_count": null,
   "id": "7252b643",
   "metadata": {},
   "outputs": [],
   "source": [
    "emotions = np.unique(df_cats.Emotion)\n",
    "\n",
    "Feature = 'energy_mean'\n",
    "columns = ['%s_%i' %(Feature, i) for i in range(1,nMidFeatures)]\n",
    "\n",
    "# Obtain a feature vector for every entry\n",
    "sub_df = df_mt.loc[:,['FileID']+columns]\n",
    "\n",
    "print(sub_df)"
   ]
  },
  {
   "cell_type": "code",
   "execution_count": null,
   "id": "e12d39d6",
   "metadata": {
    "scrolled": true
   },
   "outputs": [],
   "source": [
    "for emotion in emotions:\n",
    "    sub_df = df_mt.loc[cats_df.Emotion==emotion,columns]\n",
    "    sns.\n",
    "    plt.plot(np.arange(1,nMidFeatures), sub_df.values[:,1:].T);"
   ]
  },
  {
   "cell_type": "code",
   "execution_count": null,
   "id": "728b8358",
   "metadata": {},
   "outputs": [],
   "source": []
  }
 ],
 "metadata": {
  "kernelspec": {
   "display_name": "Python 3",
   "language": "python",
   "name": "python3"
  },
  "language_info": {
   "codemirror_mode": {
    "name": "ipython",
    "version": 3
   },
   "file_extension": ".py",
   "mimetype": "text/x-python",
   "name": "python",
   "nbconvert_exporter": "python",
   "pygments_lexer": "ipython3",
   "version": "3.9.7"
  }
 },
 "nbformat": 4,
 "nbformat_minor": 5
}

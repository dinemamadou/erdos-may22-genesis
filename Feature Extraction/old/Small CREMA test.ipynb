{
 "cells": [
  {
   "cell_type": "markdown",
   "id": "2d5aafe4",
   "metadata": {},
   "source": [
    "hello!"
   ]
  },
  {
   "cell_type": "code",
   "execution_count": 10,
   "id": "89a3fc0e",
   "metadata": {},
   "outputs": [],
   "source": [
    "from pyAudioAnalysis import audioBasicIO\n",
    "from pyAudioAnalysis import ShortTermFeatures\n",
    "import matplotlib.pyplot as plt\n",
    "\n",
    "\n",
    "import os\n",
    "import shutil\n"
   ]
  },
  {
   "cell_type": "code",
   "execution_count": 14,
   "id": "e80e106f",
   "metadata": {},
   "outputs": [
    {
     "data": {
      "text/plain": [
       "['1022_ITS_ANG_XX.wav',\n",
       " '1037_ITS_ANG_XX.wav',\n",
       " '1060_ITS_NEU_XX.wav',\n",
       " '1075_ITS_NEU_XX.wav',\n",
       " '1073_IOM_DIS_XX.wav',\n",
       " '1066_IOM_DIS_XX.wav',\n",
       " '1078_IWL_SAD_XX.wav',\n",
       " '1029_TAI_FEA_XX.wav',\n",
       " '1039_IEO_SAD_MD.wav',\n",
       " '1008_TAI_HAP_XX.wav']"
      ]
     },
     "execution_count": 14,
     "metadata": {},
     "output_type": "execute_result"
    }
   ],
   "source": [
    "# Get a list of the names of all the audio files\n",
    "\n",
    "dir_list = os.listdir(\"audioFiles\")\n",
    "\n",
    "# First ten file names\n",
    "dir_list[0:10]"
   ]
  },
  {
   "cell_type": "code",
   "execution_count": 17,
   "id": "067a3a4a",
   "metadata": {},
   "outputs": [],
   "source": [
    "# Read a wav file into the program. presumably, second component (x) is the signal. What is Fs?\n",
    "\n",
    "[Fs, x] = audioBasicIO.read_audio_file(\"audioFiles/\" + dir_list[0])\n",
    "\n",
    "\n",
    "# Extract the short term features. How do we choose the parameters/ what do they mean?\n",
    "\n",
    "F, f_names = ShortTermFeatures.feature_extraction(x, Fs, 0.050*Fs, 0.025*Fs)\n"
   ]
  },
  {
   "cell_type": "code",
   "execution_count": 20,
   "id": "d6df24a2",
   "metadata": {},
   "outputs": [
    {
     "name": "stdout",
     "output_type": "stream",
     "text": [
      "zcr\n",
      "energy\n",
      "energy_entropy\n",
      "spectral_centroid\n",
      "spectral_spread\n",
      "spectral_entropy\n",
      "spectral_flux\n",
      "spectral_rolloff\n",
      "mfcc_1\n",
      "mfcc_2\n",
      "mfcc_3\n",
      "mfcc_4\n",
      "mfcc_5\n",
      "mfcc_6\n",
      "mfcc_7\n",
      "mfcc_8\n",
      "mfcc_9\n",
      "mfcc_10\n",
      "mfcc_11\n",
      "mfcc_12\n",
      "mfcc_13\n",
      "chroma_1\n",
      "chroma_2\n",
      "chroma_3\n",
      "chroma_4\n",
      "chroma_5\n",
      "chroma_6\n",
      "chroma_7\n",
      "chroma_8\n",
      "chroma_9\n",
      "chroma_10\n",
      "chroma_11\n",
      "chroma_12\n",
      "chroma_std\n",
      "delta zcr\n",
      "delta energy\n",
      "delta energy_entropy\n",
      "delta spectral_centroid\n",
      "delta spectral_spread\n",
      "delta spectral_entropy\n",
      "delta spectral_flux\n",
      "delta spectral_rolloff\n",
      "delta mfcc_1\n",
      "delta mfcc_2\n",
      "delta mfcc_3\n",
      "delta mfcc_4\n",
      "delta mfcc_5\n",
      "delta mfcc_6\n",
      "delta mfcc_7\n",
      "delta mfcc_8\n",
      "delta mfcc_9\n",
      "delta mfcc_10\n",
      "delta mfcc_11\n",
      "delta mfcc_12\n",
      "delta mfcc_13\n",
      "delta chroma_1\n",
      "delta chroma_2\n",
      "delta chroma_3\n",
      "delta chroma_4\n",
      "delta chroma_5\n",
      "delta chroma_6\n",
      "delta chroma_7\n",
      "delta chroma_8\n",
      "delta chroma_9\n",
      "delta chroma_10\n",
      "delta chroma_11\n",
      "delta chroma_12\n",
      "delta chroma_std\n",
      "68\n",
      "68\n"
     ]
    }
   ],
   "source": [
    "# print the names of the feature columns:\n",
    "\n",
    "for i in range(len(f_names)):\n",
    "    \n",
    "    print(f_names[i])\n",
    "\n",
    "\n",
    "# how many features? \n",
    "\n",
    "print(len(F))\n",
    "print(len(f_names))\n",
    "\n"
   ]
  },
  {
   "cell_type": "code",
   "execution_count": 21,
   "id": "6e0146e1",
   "metadata": {},
   "outputs": [
    {
     "data": {
      "image/png": "[encoded data removed]",
      "text/plain": [
       "<Figure size 432x288 with 2 Axes>"
      ]
     },
     "metadata": {
      "needs_background": "light"
     },
     "output_type": "display_data"
    }
   ],
   "source": [
    "# plot zcr and energy:\n",
    "\n",
    "plt.subplot(2,1,1); plt.plot(F[0,:]); plt.xlabel('Frame no'); plt.ylabel(f_names[0]) \n",
    "plt.subplot(2,1,2); plt.plot(F[1,:]); plt.xlabel('Frame no'); plt.ylabel(f_names[1]); plt.show()\n",
    "\n",
    "\n"
   ]
  },
  {
   "cell_type": "code",
   "execution_count": null,
   "id": "b86c0344",
   "metadata": {},
   "outputs": [],
   "source": []
  },
  {
   "cell_type": "code",
   "execution_count": null,
   "id": "603d58b3",
   "metadata": {},
   "outputs": [],
   "source": []
  },
  {
   "cell_type": "code",
   "execution_count": null,
   "id": "9db95a5b",
   "metadata": {},
   "outputs": [],
   "source": []
  },
  {
   "cell_type": "code",
   "execution_count": null,
   "id": "169d772b",
   "metadata": {},
   "outputs": [],
   "source": []
  },
  {
   "cell_type": "code",
   "execution_count": null,
   "id": "6cf79239",
   "metadata": {},
   "outputs": [],
   "source": []
  },
  {
   "cell_type": "code",
   "execution_count": null,
   "id": "3d4804cd",
   "metadata": {},
   "outputs": [],
   "source": []
  }
 ],
 "metadata": {
  "kernelspec": {
   "display_name": "Python 3 (ipykernel)",
   "language": "python",
   "name": "python3"
  },
  "language_info": {
   "codemirror_mode": {
    "name": "ipython",
    "version": 3
   },
   "file_extension": ".py",
   "mimetype": "text/x-python",
   "name": "python",
   "nbconvert_exporter": "python",
   "pygments_lexer": "ipython3",
   "version": "3.8.8"
  }
 },
 "nbformat": 4,
 "nbformat_minor": 5
}

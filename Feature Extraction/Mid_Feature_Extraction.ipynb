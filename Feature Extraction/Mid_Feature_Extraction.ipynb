{
 "cells": [
  {
   "cell_type": "markdown",
   "id": "1dbd2fc3",
   "metadata": {},
   "source": [
    "# Extract mid-term features\n",
    "Extract the mid term features from the training files. We use the function `directory_feature_extraction` from `pyAudioAnalysis`.\n",
    "\n",
    "## Load modules and files"
   ]
  },
  {
   "cell_type": "code",
   "execution_count": null,
   "id": "44721e39",
   "metadata": {},
   "outputs": [],
   "source": [
    "from pyAudioAnalysis import ShortTermFeatures as aF\n",
    "from pyAudioAnalysis import audioBasicIO as aIO \n",
    "from pyAudioAnalysis import MidTermFeatures as mF\n",
    "import numpy as np \n",
    "import plotly.graph_objs as go \n",
    "import plotly\n",
    "import IPython\n",
    "\n",
    "import pandas as pd\n",
    "\n",
    "import os, shutil\n",
    "import time\n",
    "\n",
    "import matplotlib.pyplot as plt\n",
    "\n",
    "import random"
   ]
  },
  {
   "cell_type": "code",
   "execution_count": null,
   "id": "4a7b2d46",
   "metadata": {},
   "outputs": [],
   "source": [
    "# Get list of all file names in ../Data/Train\n",
    "files = os.listdir('../Data/Train')"
   ]
  },
  {
   "cell_type": "markdown",
   "id": "71796738",
   "metadata": {},
   "source": [
    "# Training files\n",
    "### Extract features"
   ]
  },
  {
   "cell_type": "code",
   "execution_count": null,
   "id": "d90b1810",
   "metadata": {},
   "outputs": [],
   "source": [
    "#Extract the averaged mid_features for all WAV files in the directory ..Data/Train. \n",
    "# Arguments: filename (str), \n",
    "#            mid_window (s), \n",
    "#            mid_step (s), \n",
    "#            short_window (s), \n",
    "#            short_step (s), \n",
    "#            compute_beat (Bool)\n",
    "# Returns: features, file_list, mid_feature_names \n",
    "features_train, file_list, mid_feature_names = mF.directory_feature_extraction('../Data/Train', mid_window=0.5, mid_step = 0.1, \n",
    "                                                 short_window = .05, short_step = .025,\n",
    "                                                  compute_beat=False)"
   ]
  },
  {
   "cell_type": "code",
   "execution_count": null,
   "id": "175c1e1b",
   "metadata": {},
   "outputs": [],
   "source": [
    "type(features_train)\n",
    "features_train.shape"
   ]
  },
  {
   "cell_type": "markdown",
   "id": "0c09017e",
   "metadata": {},
   "source": [
    "### Create a dataframe\n",
    "Create a dataframe with the features obtained above. We also add identifying information from the file names."
   ]
  },
  {
   "cell_type": "code",
   "execution_count": null,
   "id": "037c5903",
   "metadata": {},
   "outputs": [],
   "source": [
    "# Create a data frame. Among the columns should be: name of file, mid feature values, classification, actor id\n",
    "# Create a list of file names, with just actorID, emotion, and intensity:\n",
    "nice_names = []\n",
    "for name in files:\n",
    "    stripped_name = name.lstrip('../../SampleAudio')\n",
    "    stripped_name = stripped_name.strip('.wav')\n",
    "    nice_names.append(stripped_name)\n",
    "\n",
    "# Create new columns for Actor ID, emotion, and sentence\n",
    "actor_ids = []\n",
    "emotion = []\n",
    "sentence = []\n",
    "\n",
    "for name in nice_names:\n",
    "    name_list = name.split('_')\n",
    "    actor_ids.append(name_list[0])\n",
    "    sentence.append(name_list[1])\n",
    "    emotion.append(name_list[2])\n",
    "\n",
    "# Create a dict with keys the column names of the data frame    \n",
    "train_dict = {}\n",
    "train_dict['FileID'] = nice_names\n",
    "train_dict['ActorID'] = actor_ids\n",
    "train_dict['Emotion'] = emotion\n",
    "train_dict['SentenceID'] = sentence\n",
    "\n",
    "# add columns for the mid features to the data frame. \n",
    "for i in range(len(mid_feature_names)):\n",
    "    train_dict[mid_feature_names[i]] = features_train[:, i]\n"
   ]
  },
  {
   "cell_type": "code",
   "execution_count": null,
   "id": "d6fec6cd",
   "metadata": {},
   "outputs": [],
   "source": [
    "data_train = pd.DataFrame(train_dict)\n",
    "data_train.head()"
   ]
  },
  {
   "cell_type": "markdown",
   "id": "1ffda5b9",
   "metadata": {},
   "source": [
    "### Visualize the data frame"
   ]
  },
  {
   "cell_type": "code",
   "execution_count": null,
   "id": "c427d43f",
   "metadata": {},
   "outputs": [],
   "source": [
    "data_train.info()"
   ]
  },
  {
   "cell_type": "code",
   "execution_count": null,
   "id": "9456ad62",
   "metadata": {},
   "outputs": [],
   "source": [
    "data_train.Emotion.value_counts()"
   ]
  },
  {
   "cell_type": "code",
   "execution_count": null,
   "id": "251ffabe",
   "metadata": {},
   "outputs": [],
   "source": [
    "data_train.SentenceID.value_counts()"
   ]
  },
  {
   "cell_type": "code",
   "execution_count": null,
   "id": "4f9499b0",
   "metadata": {},
   "outputs": [],
   "source": [
    "data_train.actorID.value_counts()"
   ]
  },
  {
   "cell_type": "code",
   "execution_count": null,
   "id": "249092b8",
   "metadata": {},
   "outputs": [],
   "source": [
    "# Save the dataframe to a csv file\n",
    "data_train.to_csv('../Feature Extraction/midFeaturesTrainSet.csv', index=False)"
   ]
  },
  {
   "cell_type": "markdown",
   "id": "66f2d089",
   "metadata": {},
   "source": [
    "# Test files\n",
    "### Extract features"
   ]
  },
  {
   "cell_type": "code",
   "execution_count": null,
   "id": "89323dbf",
   "metadata": {},
   "outputs": [],
   "source": [
    "#Extract the averaged mid_features for all WAV files in the directory AudioWav. \n",
    "# Arguments: filename (str), \n",
    "#            mid_window (s), \n",
    "#            mid_step (s), \n",
    "#            short_window (s), \n",
    "#            short_step (s), \n",
    "#            compute_beat (Bool)\n",
    "# Returns: features, file_list, mid_feature_names \n",
    "features_test, file_list, mid_feature_names = mF.directory_feature_extraction('../Data/Test', mid_window=0.5, mid_step = 0.1, \n",
    "                                                 short_window = .05, short_step = .025,\n",
    "                                                  compute_beat=False)"
   ]
  },
  {
   "cell_type": "code",
   "execution_count": null,
   "id": "c545e06c",
   "metadata": {},
   "outputs": [],
   "source": [
    "type(features)\n",
    "features.shape"
   ]
  },
  {
   "cell_type": "markdown",
   "id": "68d7bbe2",
   "metadata": {},
   "source": [
    "### Create a dataframe\n",
    "Create a dataframe with the features obtained above. We also add identifying information from the file names."
   ]
  },
  {
   "cell_type": "code",
   "execution_count": null,
   "id": "48437172",
   "metadata": {},
   "outputs": [],
   "source": [
    "# Create a data frame. Among the columns should be: name of file, mid feature values, classification, actor id\n",
    "# Create a list of file names, with just actorID, emotion, and intensity:\n",
    "nice_names = []\n",
    "for name in files:\n",
    "    stripped_name = name.lstrip('../../SampleAudio')\n",
    "    stripped_name = stripped_name.strip('.wav')\n",
    "    nice_names.append(stripped_name)\n",
    "\n",
    "# Create new columns for Actor ID, emotion, and sentence\n",
    "actor_ids = []\n",
    "emotion = []\n",
    "sentence = []\n",
    "for name in nice_names:\n",
    "    name_list = name.split('_')\n",
    "    actor_ids.append(name_list[0])\n",
    "    sentence.append(name_list[1])\n",
    "    emotion.append(name_list[2])\n",
    "\n",
    "# Create a dict with keys the column names of the data frame    \n",
    "test_dict = {}\n",
    "test_dict['FileID'] = nice_names\n",
    "test_dict['ActorID'] = actor_ids\n",
    "test_dict['Emotion'] = emotion\n",
    "test_dict['SentenceID'] = sentence\n",
    "\n",
    "# add columns for the mid features to the data frame. \n",
    "for i in range(len(mid_feature_names)):\n",
    "    test_dict[mid_feature_names[i]] = features_test[:, i]\n"
   ]
  },
  {
   "cell_type": "code",
   "execution_count": null,
   "id": "79bf7b45",
   "metadata": {},
   "outputs": [],
   "source": [
    "data_test = pd.DataFrame(test_dict)\n",
    "data_test.head()"
   ]
  },
  {
   "cell_type": "markdown",
   "id": "e1ec30b9",
   "metadata": {},
   "source": [
    "### Visualize the data frame"
   ]
  },
  {
   "cell_type": "code",
   "execution_count": null,
   "id": "3a2a0aa1",
   "metadata": {},
   "outputs": [],
   "source": [
    "data_test.info()"
   ]
  },
  {
   "cell_type": "code",
   "execution_count": null,
   "id": "6bc1c569",
   "metadata": {},
   "outputs": [],
   "source": [
    "data_test.Emotion.value_counts()"
   ]
  },
  {
   "cell_type": "code",
   "execution_count": null,
   "id": "4cd872ae",
   "metadata": {},
   "outputs": [],
   "source": [
    "data_test.SentenceID.value_counts()"
   ]
  },
  {
   "cell_type": "code",
   "execution_count": null,
   "id": "dfbcdca8",
   "metadata": {},
   "outputs": [],
   "source": [
    "data_test.actorID.value_counts()"
   ]
  },
  {
   "cell_type": "code",
   "execution_count": null,
   "id": "e8af3946",
   "metadata": {},
   "outputs": [],
   "source": [
    "# Save the dataframe to a csv file\n",
    "data_test.to_csv('../Feature Extraction/midFeaturesTestSet.csv', index=False)"
   ]
  }
 ],
 "metadata": {
  "kernelspec": {
   "display_name": "Python 3",
   "language": "python",
   "name": "python3"
  },
  "language_info": {
   "codemirror_mode": {
    "name": "ipython",
    "version": 3
   },
   "file_extension": ".py",
   "mimetype": "text/x-python",
   "name": "python",
   "nbconvert_exporter": "python",
   "pygments_lexer": "ipython3",
   "version": "3.9.7"
  }
 },
 "nbformat": 4,
 "nbformat_minor": 5
}

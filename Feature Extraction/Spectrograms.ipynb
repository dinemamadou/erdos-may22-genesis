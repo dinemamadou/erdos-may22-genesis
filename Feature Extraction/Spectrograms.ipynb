{
 "cells": [
  {
   "cell_type": "markdown",
   "id": "238564a0",
   "metadata": {},
   "source": [
    "# Trying Spectrograms\n",
    "Here I want to compute the Mel Spectrograms of the audio clips just to see how it looks like"
   ]
  },
  {
   "cell_type": "code",
   "execution_count": 33,
   "id": "d7e720ec",
   "metadata": {},
   "outputs": [],
   "source": [
    "import librosa\n",
    "import librosa.display\n",
    "import matplotlib.pyplot as plt\n",
    "import numpy as np\n",
    "import os\n",
    "import time"
   ]
  },
  {
   "cell_type": "markdown",
   "id": "009459df",
   "metadata": {},
   "source": [
    "## Try on a single clip first"
   ]
  },
  {
   "cell_type": "code",
   "execution_count": 31,
   "id": "46283727",
   "metadata": {},
   "outputs": [
    {
     "data": {
      "text/plain": [
       "<librosa.display.AdaptiveWaveplot at 0x7fdc2c3e7190>"
      ]
     },
     "execution_count": 31,
     "metadata": {},
     "output_type": "execute_result"
    },
    {
     "data": {
      "image/png": "[encoded data removed]",
      "text/plain": [
       "<Figure size 432x288 with 1 Axes>"
      ]
     },
     "metadata": {
      "needs_background": "light"
     },
     "output_type": "display_data"
    }
   ],
   "source": [
    "y, sr = librosa.load('AudioWAV/1001_DFA_SAD_XX.wav')\n",
    "librosa.display.waveshow(y, sr=sr)"
   ]
  },
  {
   "cell_type": "code",
   "execution_count": 38,
   "id": "00972368",
   "metadata": {},
   "outputs": [],
   "source": [
    "# These variables have default values, but we'll override them for sake of the example\n",
    "n_fft=2048\n",
    "hop_length=512\n",
    "n_mels=128\n",
    "\n",
    "S = librosa.feature.melspectrogram(y=y, sr=sr, n_fft=n_fft, hop_length=hop_length, n_mels=n_mels)\n",
    "S_DB = librosa.power_to_db(S, ref=np.max)\n",
    "\n",
    "fig = plt.figure()\n",
    "librosa.display.specshow(S_DB, sr=sr, hop_length=hop_length, x_axis='time', y_axis='mel');\n",
    "\n",
    "plt.colorbar(format='%+2.0f dB');\n",
    "plt.title('Example 1')\n",
    "fig.savefig('MelSpectrogram example.png', bbox_inches='tight',\n",
    "            facecolor='white', transparent=False)\n"
   ]
  },
  {
   "cell_type": "markdown",
   "id": "f9960d09",
   "metadata": {},
   "source": [
    "## Now do it for all clips\n",
    "**Note!** This is a long computation. It took 27 minutes in my laptop. You may not want to do this unless necessary."
   ]
  },
  {
   "cell_type": "code",
   "execution_count": 29,
   "id": "43fb41ad",
   "metadata": {},
   "outputs": [
    {
     "data": {
      "text/plain": [
       "'1001_DFA_ANG_XX'"
      ]
     },
     "execution_count": 29,
     "metadata": {},
     "output_type": "execute_result"
    }
   ],
   "source": [
    "files = os.listdir('AudioWAV')\n",
    "files[0].split('.')[0]"
   ]
  },
  {
   "cell_type": "code",
   "execution_count": 43,
   "id": "ea7c6026",
   "metadata": {},
   "outputs": [
    {
     "name": "stdout",
     "output_type": "stream",
     "text": [
      "Number of files: 7442\n",
      "Duration: 27.423871 (min)\n"
     ]
    }
   ],
   "source": [
    "plt.ioff()\n",
    "\n",
    "files = os.listdir('AudioWAV')\n",
    "# You can select which files to convert here\n",
    "\n",
    "\n",
    "time_start = time.time()\n",
    "for file_name in files:\n",
    "    file_name = file_name.split('.')[0]\n",
    "    y, sr = librosa.load('AudioWAV/%s.wav' %file_name)\n",
    "\n",
    "    S = librosa.feature.melspectrogram(y=y, sr=sr)\n",
    "    S_DB = librosa.power_to_db(S, ref=np.max)\n",
    "\n",
    "    fig = plt.figure()\n",
    "    librosa.display.specshow(S_DB, sr=sr, x_axis='time', y_axis='mel');\n",
    "\n",
    "    plt.colorbar(format='%+2.0f dB');\n",
    "    plt.title(file_name.split('.')[0])\n",
    "    fig.savefig('Spectrograms/%s.png' %file_name,\n",
    "                bbox_inches='tight',\n",
    "                facecolor='white', transparent=False)\n",
    "    plt.close()\n",
    "\n",
    "time_end = time.time()\n",
    "time_total = time_end-time_start\n",
    "\n",
    "print('Number of files: %i' %(len(files)))\n",
    "if time_total <= 60:\n",
    "    print('Duration: %f (s)' %time_total)\n",
    "elif 60 < time_total <= 3600:\n",
    "    print('Duration: %f (min)' %(time_total/60))\n",
    "else:\n",
    "    print('Duration: %f (h)' %(time_total/3600))"
   ]
  },
  {
   "cell_type": "markdown",
   "id": "30d497c7",
   "metadata": {},
   "source": [
    "Note: Duration per number of files\n",
    "- 10 files: 2.039712 (s)\n",
    "- 100 files: 20.880895 (s)\n",
    "- 7442 files: 27.423871 (min)"
   ]
  },
  {
   "cell_type": "code",
   "execution_count": null,
   "id": "f8c3d6bc",
   "metadata": {},
   "outputs": [],
   "source": []
  }
 ],
 "metadata": {
  "kernelspec": {
   "display_name": "Python 3",
   "language": "python",
   "name": "python3"
  },
  "language_info": {
   "codemirror_mode": {
    "name": "ipython",
    "version": 3
   },
   "file_extension": ".py",
   "mimetype": "text/x-python",
   "name": "python",
   "nbconvert_exporter": "python",
   "pygments_lexer": "ipython3",
   "version": "3.9.7"
  }
 },
 "nbformat": 4,
 "nbformat_minor": 5
}

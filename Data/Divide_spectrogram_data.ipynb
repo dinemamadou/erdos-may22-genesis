{
 "cells": [
  {
   "cell_type": "code",
   "execution_count": 14,
   "id": "0b76004d",
   "metadata": {},
   "outputs": [],
   "source": [
    "import os, shutil\n",
    "import pandas as pd"
   ]
  },
  {
   "cell_type": "code",
   "execution_count": 2,
   "id": "dc057a63",
   "metadata": {},
   "outputs": [],
   "source": [
    "# Code to create a base folder that will contain the spectrograms for both train and test sets:\n",
    "\n",
    "base_dir = 'spectrograms_cnn_base'\n",
    "\n",
    "os.mkdir(base_dir)\n",
    "\n",
    "\n",
    "\n",
    "\n"
   ]
  },
  {
   "cell_type": "code",
   "execution_count": 3,
   "id": "78dc4f34",
   "metadata": {},
   "outputs": [],
   "source": [
    "# Code to create a folder within the base folder for the train set:\n",
    "\n",
    "train_dir = os.path.join(base_dir, 'train')\n",
    "os.mkdir(train_dir)\n",
    "\n"
   ]
  },
  {
   "cell_type": "code",
   "execution_count": 4,
   "id": "9cc91de1",
   "metadata": {},
   "outputs": [],
   "source": [
    "# Code to create a folder within the base folder for the test set:\n",
    "test_dir = os.path.join(base_dir, 'test')\n",
    "os.mkdir(test_dir)\n",
    "\n"
   ]
  },
  {
   "cell_type": "code",
   "execution_count": 5,
   "id": "266221dd",
   "metadata": {},
   "outputs": [],
   "source": [
    "# Code to create a folder within the base folder for the validation set:\n",
    "validation_dir = os.path.join(base_dir, 'validation')\n",
    "os.mkdir(validation_dir)\n",
    "\n"
   ]
  },
  {
   "cell_type": "code",
   "execution_count": 6,
   "id": "3721ddb1",
   "metadata": {},
   "outputs": [],
   "source": [
    "# Code to create 6 folders within train set folder (one per emotion):\n",
    "\n",
    "emotions = ['ANG', 'DIS', 'FEA', 'HAP', 'SAD', 'NEU']\n",
    "\n",
    "train_emos = []\n",
    "\n",
    "for i in range(6):\n",
    "    train_emos.append(os.path.join(train_dir, emotions[i]))\n",
    "    os.mkdir(train_emos[i])\n",
    "    \n",
    "\n",
    "\n"
   ]
  },
  {
   "cell_type": "code",
   "execution_count": 7,
   "id": "3771746f",
   "metadata": {},
   "outputs": [],
   "source": [
    "# Code to create 6 folders within test set folder (one per emotion):\n",
    "test_emos = []\n",
    "\n",
    "for i in range(6):\n",
    "    test_emos.append(os.path.join(test_dir, emotions[i]))\n",
    "    os.mkdir(test_emos[i])\n",
    "\n"
   ]
  },
  {
   "cell_type": "code",
   "execution_count": 8,
   "id": "97e089fb",
   "metadata": {},
   "outputs": [],
   "source": [
    "# Code to create 6 folders within validation set folder (one per emotion):\n",
    "\n",
    "val_emos = []\n",
    "\n",
    "for i in range(6):\n",
    "    val_emos.append(os.path.join(validation_dir, emotions[i]))\n",
    "    os.mkdir(val_emos[i])\n",
    "\n",
    "\n",
    "\n"
   ]
  },
  {
   "cell_type": "code",
   "execution_count": 34,
   "id": "d38a18fa",
   "metadata": {},
   "outputs": [],
   "source": [
    "# Split the large train set (which we already have) into a smaller train set and validation set, \n",
    "# stratified by emotion:\n",
    "\n",
    "train_files_list = os.listdir('Spectrograms_final/Train')\n",
    "\n",
    "train_files_list.sort()\n",
    "\n",
    "train_files_emotions = []\n",
    "\n",
    "for file_name in train_files_list:\n",
    "    emo = file_name.split('_')[2]\n",
    "    train_files_emotions.append(emo)\n",
    "    \n",
    "train_files_df = pd.DataFrame({'FileName': train_files_list, 'Emotion': train_files_emotions})\n",
    "\n",
    "\n",
    "\n",
    "from sklearn.model_selection import train_test_split\n",
    "\n",
    "\n",
    "tt_files_df, val_files_df = train_test_split(train_files_df, \n",
    "                                            test_size = 0.2,\n",
    "                                             random_state = 123,\n",
    "                                             shuffle = True,\n",
    "                                             stratify = train_files_df.Emotion.values)\n",
    "\n",
    "\n",
    "\n",
    "\n",
    "\n",
    "\n",
    "\n",
    "\n",
    "\n",
    "\n",
    "\n"
   ]
  },
  {
   "cell_type": "code",
   "execution_count": 40,
   "id": "6e1577b1",
   "metadata": {},
   "outputs": [
    {
     "data": {
      "text/plain": [
       "NEU    0.178718\n",
       "ANG    0.164359\n",
       "DIS    0.164359\n",
       "HAP    0.164359\n",
       "SAD    0.164103\n",
       "FEA    0.164103\n",
       "Name: Emotion, dtype: float64"
      ]
     },
     "execution_count": 40,
     "metadata": {},
     "output_type": "execute_result"
    }
   ],
   "source": [
    "tt_files_df.Emotion.value_counts(normalize = True)"
   ]
  },
  {
   "cell_type": "code",
   "execution_count": 41,
   "id": "1bc1a60a",
   "metadata": {},
   "outputs": [
    {
     "data": {
      "text/plain": [
       "NEU    0.179303\n",
       "FEA    0.164959\n",
       "SAD    0.163934\n",
       "ANG    0.163934\n",
       "DIS    0.163934\n",
       "HAP    0.163934\n",
       "Name: Emotion, dtype: float64"
      ]
     },
     "execution_count": 41,
     "metadata": {},
     "output_type": "execute_result"
    }
   ],
   "source": [
    "val_files_df.Emotion.value_counts(normalize = True)"
   ]
  },
  {
   "cell_type": "code",
   "execution_count": 44,
   "id": "8791412a",
   "metadata": {},
   "outputs": [
    {
     "data": {
      "text/html": [
       "<div>\n",
       "<style scoped>\n",
       "    .dataframe tbody tr th:only-of-type {\n",
       "        vertical-align: middle;\n",
       "    }\n",
       "\n",
       "    .dataframe tbody tr th {\n",
       "        vertical-align: top;\n",
       "    }\n",
       "\n",
       "    .dataframe thead th {\n",
       "        text-align: right;\n",
       "    }\n",
       "</style>\n",
       "<table border=\"1\" class=\"dataframe\">\n",
       "  <thead>\n",
       "    <tr style=\"text-align: right;\">\n",
       "      <th></th>\n",
       "      <th>FileName</th>\n",
       "      <th>Emotion</th>\n",
       "    </tr>\n",
       "  </thead>\n",
       "  <tbody>\n",
       "    <tr>\n",
       "      <th>583</th>\n",
       "      <td>1011_TIE_SAD_XX.png</td>\n",
       "      <td>SAD</td>\n",
       "    </tr>\n",
       "    <tr>\n",
       "      <th>869</th>\n",
       "      <td>1017_DFA_SAD_XX.png</td>\n",
       "      <td>SAD</td>\n",
       "    </tr>\n",
       "    <tr>\n",
       "      <th>2295</th>\n",
       "      <td>1045_IWL_SAD_XX.png</td>\n",
       "      <td>SAD</td>\n",
       "    </tr>\n",
       "    <tr>\n",
       "      <th>4718</th>\n",
       "      <td>1088_TAI_ANG_XX.png</td>\n",
       "      <td>ANG</td>\n",
       "    </tr>\n",
       "    <tr>\n",
       "      <th>4498</th>\n",
       "      <td>1085_ITS_SAD_XX.png</td>\n",
       "      <td>SAD</td>\n",
       "    </tr>\n",
       "  </tbody>\n",
       "</table>\n",
       "</div>"
      ],
      "text/plain": [
       "                 FileName Emotion\n",
       "583   1011_TIE_SAD_XX.png     SAD\n",
       "869   1017_DFA_SAD_XX.png     SAD\n",
       "2295  1045_IWL_SAD_XX.png     SAD\n",
       "4718  1088_TAI_ANG_XX.png     ANG\n",
       "4498  1085_ITS_SAD_XX.png     SAD"
      ]
     },
     "execution_count": 44,
     "metadata": {},
     "output_type": "execute_result"
    }
   ],
   "source": [
    "tt_files_df.head()"
   ]
  },
  {
   "cell_type": "code",
   "execution_count": 46,
   "id": "63880dff",
   "metadata": {},
   "outputs": [],
   "source": [
    "\n",
    "\n"
   ]
  },
  {
   "cell_type": "code",
   "execution_count": 53,
   "id": "64bb6898",
   "metadata": {},
   "outputs": [
    {
     "name": "stdout",
     "output_type": "stream",
     "text": [
      "['1011_TIE_SAD_XX.png', '1017_DFA_SAD_XX.png', '1045_IWL_SAD_XX.png', '1088_TAI_ANG_XX.png', '1085_ITS_SAD_XX.png', '1016_WSI_FEA_XX.png', '1052_TSI_ANG_XX.png', '1072_TAI_ANG_XX.png', '1017_WSI_DIS_XX.png', '1020_IWW_NEU_XX.png', '1042_TSI_HAP_XX.png', '1050_ITH_NEU_XX.png', '1033_TIE_ANG_XX.png', '1037_IWL_SAD_XX.png', '1026_ITH_SAD_XX.png', '1071_ITH_FEA_XX.png', '1082_IWW_FEA_XX.png', '1014_ITH_NEU_XX.png', '1048_IWW_DIS_XX.png', '1082_MTI_NEU_XX.png']\n"
     ]
    }
   ],
   "source": [
    "# Add files in tt_files_df to respective folders (by emotion) in the Train folder:\n",
    "tt_files_list = list(tt_files_df.FileName.values)\n",
    "\n",
    "print(tt_files_list[0:20])\n",
    "\n",
    "\n",
    "for filename in tt_files_list:\n",
    "    emo = filename.split('_')[2]\n",
    "    src = 'Spectrograms_final/Train/' + filename\n",
    "    dest = 'spectrograms_cnn_base/train/' + emo\n",
    "    shutil.copy(src, dest)"
   ]
  },
  {
   "cell_type": "code",
   "execution_count": 54,
   "id": "6ba9f456",
   "metadata": {},
   "outputs": [
    {
     "name": "stdout",
     "output_type": "stream",
     "text": [
      "['1085_TIE_FEA_XX.png', '1065_ITS_FEA_XX.png', '1035_TAI_SAD_XX.png', '1012_ITS_FEA_XX.png', '1061_DFA_ANG_XX.png', '1057_WSI_SAD_XX.png', '1023_MTI_ANG_XX.png', '1005_WSI_NEU_XX.png', '1076_TSI_DIS_XX.png', '1061_IEO_NEU_XX.png', '1010_IWW_NEU_XX.png', '1044_IOM_DIS_XX.png', '1052_DFA_NEU_XX.png', '1083_IWW_NEU_XX.png', '1091_MTI_FEA_XX.png', '1041_IOM_ANG_XX.png', '1091_ITH_NEU_XX.png', '1082_MTI_FEA_XX.png', '1015_MTI_NEU_XX.png', '1010_ITS_NEU_XX.png']\n"
     ]
    }
   ],
   "source": [
    "# Add files in val_files_df to respective folders (by emotion) in the Validation folder:\n",
    "val_files_list = list(val_files_df.FileName.values)\n",
    "\n",
    "print(val_files_list[0:20])\n",
    "\n",
    "for filename in val_files_list:\n",
    "    emo = filename.split('_')[2]\n",
    "    src = 'Spectrograms_final/Train/' + filename\n",
    "    dest = 'spectrograms_cnn_base/validation/' + emo\n",
    "    shutil.copy(src, dest)"
   ]
  },
  {
   "cell_type": "code",
   "execution_count": 55,
   "id": "b8d8b86c",
   "metadata": {},
   "outputs": [
    {
     "name": "stdout",
     "output_type": "stream",
     "text": [
      "['1008_MTI_HAP_XX.png', '1029_MTI_FEA_XX.png', '1070_TSI_DIS_XX.png', '1034_DFA_DIS_XX.png', '1043_ITH_ANG_XX.png', '1034_WSI_DIS_XX.png', '1029_DFA_FEA_XX.png', '1008_DFA_HAP_XX.png', '1039_ITH_DIS_XX.png', '1089_TIE_NEU_XX.png', '1029_WSI_FEA_XX.png', '1034_MTI_DIS_XX.png', '1013_IOM_DIS_XX.png', '1006_IOM_DIS_XX.png', '1080_IOM_FEA_XX.png', '1068_TAI_HAP_XX.png', '1049_TAI_FEA_XX.png', '1049_ITS_DIS_XX.png', '1080_TSI_SAD_XX.png', '1066_IWL_DIS_XX.png']\n"
     ]
    }
   ],
   "source": [
    "\n",
    "# Load the test files into the test folder (by emotion):\n",
    "\n",
    "test_files_list = os.listdir('Spectrograms_final/Test')\n",
    "\n",
    "print(test_files_list[0:20])\n",
    "\n",
    "for filename in test_files_list:\n",
    "    emo = filename.split('_')[2]\n",
    "    src = 'Spectrograms_final/Test/' + filename\n",
    "    dest = 'spectrograms_cnn_base/test/' + emo\n",
    "    shutil.copy(src, dest)\n",
    "\n",
    "\n"
   ]
  },
  {
   "cell_type": "code",
   "execution_count": null,
   "id": "778a07de",
   "metadata": {},
   "outputs": [],
   "source": []
  }
 ],
 "metadata": {
  "kernelspec": {
   "display_name": "Python 3 (ipykernel)",
   "language": "python",
   "name": "python3"
  },
  "language_info": {
   "codemirror_mode": {
    "name": "ipython",
    "version": 3
   },
   "file_extension": ".py",
   "mimetype": "text/x-python",
   "name": "python",
   "nbconvert_exporter": "python",
   "pygments_lexer": "ipython3",
   "version": "3.8.8"
  }
 },
 "nbformat": 4,
 "nbformat_minor": 5
}

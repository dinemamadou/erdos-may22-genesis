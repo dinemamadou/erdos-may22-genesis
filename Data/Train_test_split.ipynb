{
 "cells": [
  {
   "cell_type": "code",
   "execution_count": 26,
   "id": "abff3692",
   "metadata": {},
   "outputs": [],
   "source": [
    "import os\n",
    "import shutil\n",
    "import glob\n",
    "import numpy as np\n",
    "import pandas as pd\n",
    "\n",
    "df = pd.read_csv('Categories.csv')"
   ]
  },
  {
   "cell_type": "code",
   "execution_count": 23,
   "id": "7d9250fd",
   "metadata": {},
   "outputs": [
    {
     "data": {
      "text/html": [
       "<div>\n",
       "<style scoped>\n",
       "    .dataframe tbody tr th:only-of-type {\n",
       "        vertical-align: middle;\n",
       "    }\n",
       "\n",
       "    .dataframe tbody tr th {\n",
       "        vertical-align: top;\n",
       "    }\n",
       "\n",
       "    .dataframe thead th {\n",
       "        text-align: right;\n",
       "    }\n",
       "</style>\n",
       "<table border=\"1\" class=\"dataframe\">\n",
       "  <thead>\n",
       "    <tr style=\"text-align: right;\">\n",
       "      <th></th>\n",
       "      <th>FileID</th>\n",
       "      <th>ActorID</th>\n",
       "      <th>SentenceID</th>\n",
       "      <th>Emotion</th>\n",
       "      <th>Intensity</th>\n",
       "    </tr>\n",
       "  </thead>\n",
       "  <tbody>\n",
       "    <tr>\n",
       "      <th>3067</th>\n",
       "      <td>1047_DFA_SAD_XX</td>\n",
       "      <td>1047</td>\n",
       "      <td>DFA</td>\n",
       "      <td>SAD</td>\n",
       "      <td>XX</td>\n",
       "    </tr>\n",
       "    <tr>\n",
       "      <th>5260</th>\n",
       "      <td>1079_TSI_ANG_XX</td>\n",
       "      <td>1079</td>\n",
       "      <td>TSI</td>\n",
       "      <td>ANG</td>\n",
       "      <td>XX</td>\n",
       "    </tr>\n",
       "    <tr>\n",
       "      <th>3556</th>\n",
       "      <td>1054_IWL_ANG_XX</td>\n",
       "      <td>1054</td>\n",
       "      <td>IWL</td>\n",
       "      <td>ANG</td>\n",
       "      <td>XX</td>\n",
       "    </tr>\n",
       "    <tr>\n",
       "      <th>4845</th>\n",
       "      <td>1073_MTI_NEU_XX</td>\n",
       "      <td>1073</td>\n",
       "      <td>MTI</td>\n",
       "      <td>NEU</td>\n",
       "      <td>XX</td>\n",
       "    </tr>\n",
       "    <tr>\n",
       "      <th>5572</th>\n",
       "      <td>1084_IWW_DIS_XX</td>\n",
       "      <td>1084</td>\n",
       "      <td>IWW</td>\n",
       "      <td>DIS</td>\n",
       "      <td>XX</td>\n",
       "    </tr>\n",
       "  </tbody>\n",
       "</table>\n",
       "</div>"
      ],
      "text/plain": [
       "               FileID  ActorID SentenceID Emotion Intensity\n",
       "3067  1047_DFA_SAD_XX     1047        DFA     SAD        XX\n",
       "5260  1079_TSI_ANG_XX     1079        TSI     ANG        XX\n",
       "3556  1054_IWL_ANG_XX     1054        IWL     ANG        XX\n",
       "4845  1073_MTI_NEU_XX     1073        MTI     NEU        XX\n",
       "5572  1084_IWW_DIS_XX     1084        IWW     DIS        XX"
      ]
     },
     "execution_count": 23,
     "metadata": {},
     "output_type": "execute_result"
    }
   ],
   "source": [
    "df.sample(5)"
   ]
  },
  {
   "cell_type": "markdown",
   "id": "bbb8f1de",
   "metadata": {},
   "source": [
    "# Create the Train-Test split\n",
    "I'm not using train_test_split because that would distribute the sound clips from every actor in _both_ the train and test set. I have to do this \"by hand\"."
   ]
  },
  {
   "cell_type": "code",
   "execution_count": 16,
   "id": "9787ecfc",
   "metadata": {},
   "outputs": [],
   "source": [
    "test_size = 0.2\n",
    "\n",
    "# Create an rng object and feed a seed\n",
    "rng = np.random.default_rng(500)\n",
    "\n",
    "# Obtain the list of actors\n",
    "actors = df.ActorID.unique()\n",
    "nActors = len(actors)\n",
    "\n",
    "# Actors for the test set\n",
    "num_test = round(nActors*test_size)\n",
    "actors_test = rng.choice(actors, size=num_test, replace=False)\n",
    "actors_test.sort()\n",
    "\n",
    "# Actors for the train set\n",
    "actors_train = list(set(actors)-set(actors_test))\n",
    "actors_train.sort()\n"
   ]
  },
  {
   "cell_type": "code",
   "execution_count": 17,
   "id": "d0b12b20",
   "metadata": {},
   "outputs": [
    {
     "name": "stdout",
     "output_type": "stream",
     "text": [
      "Num of Test  actors: 18\n",
      "Num of Train actors: 73\n",
      "Sum: 91\n",
      "Original number of actors: 91\n",
      "Num of actors in both train and test set\n",
      "(This should be 0): 0\n"
     ]
    }
   ],
   "source": [
    "print('Num of Test  actors: %i' %(len(actors_test)))\n",
    "print('Num of Train actors: %i' %(len(actors_train)))\n",
    "print('Sum: %i' %(len(actors_test)+len(actors_train)))\n",
    "print('Original number of actors: %i' %nActors)\n",
    "print('Num of actors in both train and test set')\n",
    "print('(This should be 0): %i' %(len(set(actors_test) & set(actors_train))))"
   ]
  },
  {
   "cell_type": "code",
   "execution_count": 20,
   "id": "8bc0aa13",
   "metadata": {},
   "outputs": [
    {
     "name": "stdout",
     "output_type": "stream",
     "text": [
      "Training set:\n",
      "[1001, 1002, 1003, 1004, 1005, 1007, 1009, 1010, 1011, 1012, 1014, 1015, 1016, 1017, 1018, 1019, 1020, 1021, 1022, 1023, 1024, 1025, 1026, 1027, 1030, 1031, 1033, 1035, 1036, 1037, 1038, 1041, 1042, 1044, 1045, 1046, 1047, 1048, 1050, 1052, 1053, 1054, 1055, 1056, 1057, 1058, 1059, 1061, 1062, 1063, 1064, 1065, 1067, 1069, 1071, 1072, 1073, 1074, 1075, 1076, 1077, 1078, 1079, 1081, 1082, 1083, 1084, 1085, 1086, 1087, 1088, 1090, 1091]\n",
      "\n",
      "Test set:\n",
      "[1006 1008 1013 1028 1029 1032 1034 1039 1040 1043 1049 1051 1060 1066\n",
      " 1068 1070 1080 1089]\n"
     ]
    }
   ],
   "source": [
    "print('Training set:')\n",
    "print(actors_train)\n",
    "print()\n",
    "\n",
    "print('Test set:')\n",
    "print(actors_test)"
   ]
  },
  {
   "cell_type": "markdown",
   "id": "314d1546",
   "metadata": {},
   "source": [
    "### Move the files\n",
    "Now that I have separated the actors into train and test, I'll copy the audio files to their respective folders."
   ]
  },
  {
   "cell_type": "code",
   "execution_count": 30,
   "id": "6e7f4503",
   "metadata": {},
   "outputs": [],
   "source": [
    "# Create list of train files\n",
    "if not os.path.isdir('Train'):\n",
    "    os.mkdir('Train')\n",
    "\n",
    "files_actors_train = []\n",
    "for actor in actors_train:\n",
    "    files_actors_train = files_actors_train + (glob.glob('../../AudioWAV/%s_*.wav' %actor))\n",
    "\n",
    "# Create list of test files\n",
    "if not os.path.isdir('Test'):\n",
    "    os.mkdir('Test')\n",
    "\n",
    "files_actors_test = []\n",
    "for actor in actors_test:\n",
    "    files_actors_test = files_actors_test + (glob.glob('../../AudioWAV/%s_*.wav' %actor))\n"
   ]
  },
  {
   "cell_type": "code",
   "execution_count": 31,
   "id": "2d5cbcfb",
   "metadata": {},
   "outputs": [],
   "source": [
    "# Copy train files\n",
    "for file in files_actors_train:\n",
    "    shutil.copy(file, 'Train')\n",
    "\n",
    "# Copy test files\n",
    "for file in files_actors_test:\n",
    "    shutil.copy(file, 'Test')"
   ]
  },
  {
   "cell_type": "code",
   "execution_count": 32,
   "id": "b4d5c047",
   "metadata": {},
   "outputs": [
    {
     "name": "stdout",
     "output_type": "stream",
     "text": [
      "Number of TRAIN files: 4877\n",
      "Percentage of TRAIN files: 80.25%\n",
      "Number of TEST files: 1200\n",
      "Percentage of TEST files:  19.75%\n"
     ]
    }
   ],
   "source": [
    "numFilesTrain = len(files_actors_train)\n",
    "numFilesTest  = len(files_actors_test)\n",
    "numFiles = numFilesTrain+numFilesTest\n",
    "\n",
    "print('Number of TRAIN files: %i' %(numFilesTrain))\n",
    "print('Percentage of TRAIN files: %1.2f%%' %(100*numFilesTrain/numFiles))\n",
    "print('Number of TEST files: %i' %(numFilesTest))\n",
    "print('Percentage of TEST files:  %1.2f%%' %( 100*numFilesTest/numFiles))"
   ]
  },
  {
   "cell_type": "markdown",
   "id": "6aceb842",
   "metadata": {},
   "source": [
    "## Create Categories\n",
    "Split the categories dataframe in train and test sets"
   ]
  },
  {
   "cell_type": "code",
   "execution_count": 35,
   "id": "933fc741",
   "metadata": {},
   "outputs": [],
   "source": [
    "df_train = df.loc[df.ActorID.isin(actors_train)]\n",
    "df_test = df.loc[df.ActorID.isin(actors_test)]\n",
    "\n",
    "df_train.to_csv('Categories_train.csv', index=False)\n",
    "df_test.to_csv('Categories_test.csv', index=False)"
   ]
  },
  {
   "cell_type": "code",
   "execution_count": 56,
   "id": "a1652e4d",
   "metadata": {},
   "outputs": [
    {
     "name": "stdout",
     "output_type": "stream",
     "text": [
      "True\n",
      "[ True  True  True  True  True  True  True  True  True  True  True  True\n",
      "  True  True  True  True  True  True]\n"
     ]
    }
   ],
   "source": [
    "print(actors_train.sort() == df_train.ActorID.unique().tolist().)\n",
    "print(actors_test.sort() == df_test.ActorID.unique().tolist())\n"
   ]
  },
  {
   "cell_type": "code",
   "execution_count": null,
   "id": "0d5c446e",
   "metadata": {},
   "outputs": [],
   "source": []
  }
 ],
 "metadata": {
  "kernelspec": {
   "display_name": "Python 3",
   "language": "python",
   "name": "python3"
  },
  "language_info": {
   "codemirror_mode": {
    "name": "ipython",
    "version": 3
   },
   "file_extension": ".py",
   "mimetype": "text/x-python",
   "name": "python",
   "nbconvert_exporter": "python",
   "pygments_lexer": "ipython3",
   "version": "3.9.7"
  }
 },
 "nbformat": 4,
 "nbformat_minor": 5
}

{
 "cells": [
  {
   "cell_type": "code",
   "execution_count": 2,
   "id": "0b76004d",
   "metadata": {},
   "outputs": [],
   "source": [
    "import os, shutil"
   ]
  },
  {
   "cell_type": "code",
   "execution_count": 3,
   "id": "dc057a63",
   "metadata": {},
   "outputs": [],
   "source": [
    "# Code to create a base folder that will contain the spectrograms for both train and test sets:\n",
    "\n",
    "base_dir = 'spectrograms_cnn_base'\n",
    "\n",
    "os.mkdir(base_dir)\n",
    "\n",
    "\n",
    "\n",
    "\n"
   ]
  },
  {
   "cell_type": "code",
   "execution_count": 4,
   "id": "78dc4f34",
   "metadata": {},
   "outputs": [],
   "source": [
    "# Code to create a folder within the base folder for the train set:\n",
    "\n",
    "train_dir = os.path.join(base_dir, 'train')\n",
    "os.mkdir(train_dir)\n",
    "\n"
   ]
  },
  {
   "cell_type": "code",
   "execution_count": 5,
   "id": "9cc91de1",
   "metadata": {},
   "outputs": [],
   "source": [
    "# Code to create a folder within the base folder for the test set:\n",
    "test_dir = os.path.join(base_dir, 'test')\n",
    "os.mkdir(test_dir)\n",
    "\n"
   ]
  },
  {
   "cell_type": "code",
   "execution_count": 6,
   "id": "266221dd",
   "metadata": {},
   "outputs": [],
   "source": [
    "# Code to create a folder within the base folder for the validation set:\n",
    "validation_dir = os.path.join(base_dir, 'validation')\n",
    "os.mkdir(validation_dir)\n",
    "\n"
   ]
  },
  {
   "cell_type": "code",
   "execution_count": 7,
   "id": "3721ddb1",
   "metadata": {},
   "outputs": [],
   "source": [
    "# Code to create 6 folders within train set folder (one per emotion):\n",
    "\n",
    "emotions = ['ANG', 'DIS', 'FEA', 'HAP', 'SAD', 'NEU']\n",
    "\n",
    "train_emos = []\n",
    "\n",
    "for i in range(6):\n",
    "    train_emos.append(os.path.join(train_dir, emotions[i]))\n",
    "    os.mkdir(train_emos[i])\n",
    "    \n",
    "\n",
    "\n"
   ]
  },
  {
   "cell_type": "code",
   "execution_count": 8,
   "id": "3771746f",
   "metadata": {},
   "outputs": [],
   "source": [
    "# Code to create 6 folders within test set folder (one per emotion):\n",
    "test_emos = []\n",
    "\n",
    "for i in range(6):\n",
    "    test_emos.append(os.path.join(test_dir, emotions[i]))\n",
    "    os.mkdir(test_emos[i])\n",
    "\n"
   ]
  },
  {
   "cell_type": "code",
   "execution_count": 10,
   "id": "97e089fb",
   "metadata": {},
   "outputs": [],
   "source": [
    "# Code to create 6 folders within validation set folder (one per emotion):\n",
    "\n",
    "val_emos = []\n",
    "\n",
    "for i in range(6):\n",
    "    val_emos.append(os.path.join(validation_dir, emotions[i]))\n",
    "    os.mkdir(val_emos[i])\n",
    "\n",
    "\n",
    "\n"
   ]
  },
  {
   "cell_type": "code",
   "execution_count": null,
   "id": "d38a18fa",
   "metadata": {},
   "outputs": [],
   "source": [
    "# Split the large test set (which we already have) into a smaller test set and validation set, \n",
    "# stratified by emotion:\n",
    "\n",
    "\n",
    "\n",
    "\n",
    "\n",
    "\n"
   ]
  },
  {
   "cell_type": "code",
   "execution_count": null,
   "id": "b8d8b86c",
   "metadata": {},
   "outputs": [],
   "source": [
    "# Load spectrograms into folders, according to train/test/val split, and emotion. \n",
    "\n",
    "\n"
   ]
  }
 ],
 "metadata": {
  "kernelspec": {
   "display_name": "Python 3 (ipykernel)",
   "language": "python",
   "name": "python3"
  },
  "language_info": {
   "codemirror_mode": {
    "name": "ipython",
    "version": 3
   },
   "file_extension": ".py",
   "mimetype": "text/x-python",
   "name": "python",
   "nbconvert_exporter": "python",
   "pygments_lexer": "ipython3",
   "version": "3.8.8"
  }
 },
 "nbformat": 4,
 "nbformat_minor": 5
}

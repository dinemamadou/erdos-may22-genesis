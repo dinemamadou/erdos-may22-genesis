{
 "cells": [
  {
   "cell_type": "code",
   "execution_count": 32,
   "id": "80d12fe3",
   "metadata": {},
   "outputs": [],
   "source": [
    "import pandas as pd\n",
    "import numpy as np\n",
    "\n",
    "## For plotting\n",
    "import matplotlib.pyplot as plt\n",
    "import seaborn as sns\n",
    "\n",
    "## This sets the plot style\n",
    "## to have a grid on a dark background\n",
    "sns.set_style(\"whitegrid\")"
   ]
  },
  {
   "cell_type": "code",
   "execution_count": 33,
   "id": "d9fecfad",
   "metadata": {},
   "outputs": [],
   "source": [
    "\n",
    "from sklearn.svm import SVC\n",
    "from sklearn.model_selection import train_test_split\n",
    "from sklearn.metrics import confusion_matrix, precision_score\n",
    "from sklearn.model_selection import StratifiedKFold\n",
    "from sklearn.pipeline import Pipeline\n",
    "from sklearn.preprocessing import StandardScaler\n",
    "\n",
    "from sklearn.decomposition import PCA\n",
    "\n",
    "from sklearn.metrics import accuracy_score, confusion_matrix\n",
    "\n",
    "\n"
   ]
  },
  {
   "cell_type": "code",
   "execution_count": 34,
   "id": "ab69a78e",
   "metadata": {},
   "outputs": [
    {
     "name": "stdout",
     "output_type": "stream",
     "text": [
      "(4876, 140)\n"
     ]
    }
   ],
   "source": [
    "# Read in your csv file that has the mid features. \n",
    "\n",
    "#data = pd.read_csv('../Feature Extraction/midFeaturesTrainSet.csv')\n",
    "data = pd.read_csv('midFeaturesTrainFinal.csv')\n",
    "\n",
    "\n",
    "data.head()\n",
    "\n",
    "print(data.shape)"
   ]
  },
  {
   "cell_type": "code",
   "execution_count": 35,
   "id": "eb50b680",
   "metadata": {},
   "outputs": [],
   "source": [
    "# Split the data into train and test set, stratified by Emotion.\n",
    "\n",
    "\n",
    "data_train, data_test = train_test_split(data.copy(),\n",
    "                                   shuffle=True,\n",
    "                                   random_state=608,\n",
    "                                   stratify=data.Emotion,\n",
    "                                   test_size=0.2\n",
    "                                   )"
   ]
  },
  {
   "cell_type": "code",
   "execution_count": 36,
   "id": "e25e4f53",
   "metadata": {},
   "outputs": [
    {
     "data": {
      "text/html": [
       "<div>\n",
       "<style scoped>\n",
       "    .dataframe tbody tr th:only-of-type {\n",
       "        vertical-align: middle;\n",
       "    }\n",
       "\n",
       "    .dataframe tbody tr th {\n",
       "        vertical-align: top;\n",
       "    }\n",
       "\n",
       "    .dataframe thead th {\n",
       "        text-align: right;\n",
       "    }\n",
       "</style>\n",
       "<table border=\"1\" class=\"dataframe\">\n",
       "  <thead>\n",
       "    <tr style=\"text-align: right;\">\n",
       "      <th></th>\n",
       "      <th>FileID</th>\n",
       "      <th>actorID</th>\n",
       "      <th>Emotion</th>\n",
       "      <th>SentenceID</th>\n",
       "      <th>zcr_mean</th>\n",
       "      <th>energy_mean</th>\n",
       "      <th>energy_entropy_mean</th>\n",
       "      <th>spectral_centroid_mean</th>\n",
       "      <th>spectral_spread_mean</th>\n",
       "      <th>spectral_entropy_mean</th>\n",
       "      <th>...</th>\n",
       "      <th>delta chroma_4_std</th>\n",
       "      <th>delta chroma_5_std</th>\n",
       "      <th>delta chroma_6_std</th>\n",
       "      <th>delta chroma_7_std</th>\n",
       "      <th>delta chroma_8_std</th>\n",
       "      <th>delta chroma_9_std</th>\n",
       "      <th>delta chroma_10_std</th>\n",
       "      <th>delta chroma_11_std</th>\n",
       "      <th>delta chroma_12_std</th>\n",
       "      <th>delta chroma_std_std</th>\n",
       "    </tr>\n",
       "  </thead>\n",
       "  <tbody>\n",
       "    <tr>\n",
       "      <th>1392</th>\n",
       "      <td>1024_WSI_NEU_XX</td>\n",
       "      <td>1024</td>\n",
       "      <td>NEU</td>\n",
       "      <td>WSI</td>\n",
       "      <td>0.135906</td>\n",
       "      <td>0.030477</td>\n",
       "      <td>2.901268</td>\n",
       "      <td>0.194981</td>\n",
       "      <td>0.182800</td>\n",
       "      <td>0.711852</td>\n",
       "      <td>...</td>\n",
       "      <td>0.030656</td>\n",
       "      <td>0.016327</td>\n",
       "      <td>0.035657</td>\n",
       "      <td>0.017570</td>\n",
       "      <td>0.003064</td>\n",
       "      <td>0.020542</td>\n",
       "      <td>0.035710</td>\n",
       "      <td>0.015258</td>\n",
       "      <td>0.017597</td>\n",
       "      <td>0.014659</td>\n",
       "    </tr>\n",
       "    <tr>\n",
       "      <th>4368</th>\n",
       "      <td>1083_IWL_HAP_XX</td>\n",
       "      <td>1083</td>\n",
       "      <td>HAP</td>\n",
       "      <td>IWL</td>\n",
       "      <td>0.099215</td>\n",
       "      <td>0.008852</td>\n",
       "      <td>2.862445</td>\n",
       "      <td>0.191436</td>\n",
       "      <td>0.210406</td>\n",
       "      <td>0.760735</td>\n",
       "      <td>...</td>\n",
       "      <td>0.019861</td>\n",
       "      <td>0.024212</td>\n",
       "      <td>0.024375</td>\n",
       "      <td>0.022640</td>\n",
       "      <td>0.008443</td>\n",
       "      <td>0.011371</td>\n",
       "      <td>0.014012</td>\n",
       "      <td>0.018641</td>\n",
       "      <td>0.009317</td>\n",
       "      <td>0.007234</td>\n",
       "    </tr>\n",
       "    <tr>\n",
       "      <th>3635</th>\n",
       "      <td>1071_IWL_SAD_XX</td>\n",
       "      <td>1071</td>\n",
       "      <td>SAD</td>\n",
       "      <td>IWL</td>\n",
       "      <td>0.069836</td>\n",
       "      <td>0.032944</td>\n",
       "      <td>2.860838</td>\n",
       "      <td>0.130360</td>\n",
       "      <td>0.165496</td>\n",
       "      <td>0.277765</td>\n",
       "      <td>...</td>\n",
       "      <td>0.021475</td>\n",
       "      <td>0.022369</td>\n",
       "      <td>0.021624</td>\n",
       "      <td>0.014359</td>\n",
       "      <td>0.006500</td>\n",
       "      <td>0.006294</td>\n",
       "      <td>0.003946</td>\n",
       "      <td>0.014643</td>\n",
       "      <td>0.029600</td>\n",
       "      <td>0.009393</td>\n",
       "    </tr>\n",
       "    <tr>\n",
       "      <th>3735</th>\n",
       "      <td>1072_WSI_FEA_XX</td>\n",
       "      <td>1072</td>\n",
       "      <td>FEA</td>\n",
       "      <td>WSI</td>\n",
       "      <td>0.092087</td>\n",
       "      <td>0.045357</td>\n",
       "      <td>2.914424</td>\n",
       "      <td>0.196379</td>\n",
       "      <td>0.200513</td>\n",
       "      <td>0.551055</td>\n",
       "      <td>...</td>\n",
       "      <td>0.048005</td>\n",
       "      <td>0.035567</td>\n",
       "      <td>0.002362</td>\n",
       "      <td>0.001716</td>\n",
       "      <td>0.002727</td>\n",
       "      <td>0.003243</td>\n",
       "      <td>0.003031</td>\n",
       "      <td>0.007590</td>\n",
       "      <td>0.005105</td>\n",
       "      <td>0.011353</td>\n",
       "    </tr>\n",
       "    <tr>\n",
       "      <th>2592</th>\n",
       "      <td>1050_TSI_NEU_XX</td>\n",
       "      <td>1050</td>\n",
       "      <td>NEU</td>\n",
       "      <td>TSI</td>\n",
       "      <td>0.254775</td>\n",
       "      <td>0.013199</td>\n",
       "      <td>2.864431</td>\n",
       "      <td>0.314598</td>\n",
       "      <td>0.223688</td>\n",
       "      <td>0.927317</td>\n",
       "      <td>...</td>\n",
       "      <td>0.031233</td>\n",
       "      <td>0.013112</td>\n",
       "      <td>0.011738</td>\n",
       "      <td>0.022424</td>\n",
       "      <td>0.001299</td>\n",
       "      <td>0.009910</td>\n",
       "      <td>0.012473</td>\n",
       "      <td>0.030144</td>\n",
       "      <td>0.010510</td>\n",
       "      <td>0.009509</td>\n",
       "    </tr>\n",
       "  </tbody>\n",
       "</table>\n",
       "<p>5 rows × 140 columns</p>\n",
       "</div>"
      ],
      "text/plain": [
       "               FileID  actorID Emotion SentenceID  zcr_mean  energy_mean  \\\n",
       "1392  1024_WSI_NEU_XX     1024     NEU        WSI  0.135906     0.030477   \n",
       "4368  1083_IWL_HAP_XX     1083     HAP        IWL  0.099215     0.008852   \n",
       "3635  1071_IWL_SAD_XX     1071     SAD        IWL  0.069836     0.032944   \n",
       "3735  1072_WSI_FEA_XX     1072     FEA        WSI  0.092087     0.045357   \n",
       "2592  1050_TSI_NEU_XX     1050     NEU        TSI  0.254775     0.013199   \n",
       "\n",
       "      energy_entropy_mean  spectral_centroid_mean  spectral_spread_mean  \\\n",
       "1392             2.901268                0.194981              0.182800   \n",
       "4368             2.862445                0.191436              0.210406   \n",
       "3635             2.860838                0.130360              0.165496   \n",
       "3735             2.914424                0.196379              0.200513   \n",
       "2592             2.864431                0.314598              0.223688   \n",
       "\n",
       "      spectral_entropy_mean  ...  delta chroma_4_std  delta chroma_5_std  \\\n",
       "1392               0.711852  ...            0.030656            0.016327   \n",
       "4368               0.760735  ...            0.019861            0.024212   \n",
       "3635               0.277765  ...            0.021475            0.022369   \n",
       "3735               0.551055  ...            0.048005            0.035567   \n",
       "2592               0.927317  ...            0.031233            0.013112   \n",
       "\n",
       "      delta chroma_6_std  delta chroma_7_std  delta chroma_8_std  \\\n",
       "1392            0.035657            0.017570            0.003064   \n",
       "4368            0.024375            0.022640            0.008443   \n",
       "3635            0.021624            0.014359            0.006500   \n",
       "3735            0.002362            0.001716            0.002727   \n",
       "2592            0.011738            0.022424            0.001299   \n",
       "\n",
       "      delta chroma_9_std  delta chroma_10_std  delta chroma_11_std  \\\n",
       "1392            0.020542             0.035710             0.015258   \n",
       "4368            0.011371             0.014012             0.018641   \n",
       "3635            0.006294             0.003946             0.014643   \n",
       "3735            0.003243             0.003031             0.007590   \n",
       "2592            0.009910             0.012473             0.030144   \n",
       "\n",
       "      delta chroma_12_std  delta chroma_std_std  \n",
       "1392             0.017597              0.014659  \n",
       "4368             0.009317              0.007234  \n",
       "3635             0.029600              0.009393  \n",
       "3735             0.005105              0.011353  \n",
       "2592             0.010510              0.009509  \n",
       "\n",
       "[5 rows x 140 columns]"
      ]
     },
     "execution_count": 36,
     "metadata": {},
     "output_type": "execute_result"
    }
   ],
   "source": [
    "data.sample(5)"
   ]
  },
  {
   "cell_type": "code",
   "execution_count": 37,
   "id": "c38ae0e0",
   "metadata": {},
   "outputs": [
    {
     "data": {
      "text/plain": [
       "NEU    0.178718\n",
       "HAP    0.164359\n",
       "FEA    0.164359\n",
       "ANG    0.164359\n",
       "SAD    0.164103\n",
       "DIS    0.164103\n",
       "Name: Emotion, dtype: float64"
      ]
     },
     "execution_count": 37,
     "metadata": {},
     "output_type": "execute_result"
    }
   ],
   "source": [
    "# Check the percentages of the different emotion categories in the training set\n",
    "\n",
    "data_train.Emotion.value_counts(normalize=True)"
   ]
  },
  {
   "cell_type": "code",
   "execution_count": 38,
   "id": "f2eedfff",
   "metadata": {},
   "outputs": [
    {
     "data": {
      "text/plain": [
       "NEU    0.179303\n",
       "DIS    0.164959\n",
       "ANG    0.163934\n",
       "SAD    0.163934\n",
       "FEA    0.163934\n",
       "HAP    0.163934\n",
       "Name: Emotion, dtype: float64"
      ]
     },
     "execution_count": 38,
     "metadata": {},
     "output_type": "execute_result"
    }
   ],
   "source": [
    "# Check the percentages of the different emotion categories in the test set\n",
    "\n",
    "data_test.Emotion.value_counts(normalize=True)"
   ]
  },
  {
   "cell_type": "code",
   "execution_count": 39,
   "id": "20b917cb",
   "metadata": {},
   "outputs": [],
   "source": [
    "y_train = data_train[['Emotion']]\n",
    "y_test  = data_test[['Emotion']]\n",
    "\n",
    "X_train = data_train.drop(columns  = ['FileID','actorID', 'Emotion', 'SentenceID'])\n",
    "X_test  = data_test.drop(columns   = ['FileID','actorID', 'Emotion', 'SentenceID'])"
   ]
  },
  {
   "cell_type": "code",
   "execution_count": 40,
   "id": "f6115a2b",
   "metadata": {},
   "outputs": [
    {
     "data": {
      "text/html": [
       "<div>\n",
       "<style scoped>\n",
       "    .dataframe tbody tr th:only-of-type {\n",
       "        vertical-align: middle;\n",
       "    }\n",
       "\n",
       "    .dataframe tbody tr th {\n",
       "        vertical-align: top;\n",
       "    }\n",
       "\n",
       "    .dataframe thead th {\n",
       "        text-align: right;\n",
       "    }\n",
       "</style>\n",
       "<table border=\"1\" class=\"dataframe\">\n",
       "  <thead>\n",
       "    <tr style=\"text-align: right;\">\n",
       "      <th></th>\n",
       "      <th>Emotion</th>\n",
       "    </tr>\n",
       "  </thead>\n",
       "  <tbody>\n",
       "    <tr>\n",
       "      <th>2589</th>\n",
       "      <td>DIS</td>\n",
       "    </tr>\n",
       "    <tr>\n",
       "      <th>628</th>\n",
       "      <td>DIS</td>\n",
       "    </tr>\n",
       "    <tr>\n",
       "      <th>3624</th>\n",
       "      <td>ANG</td>\n",
       "    </tr>\n",
       "    <tr>\n",
       "      <th>334</th>\n",
       "      <td>ANG</td>\n",
       "    </tr>\n",
       "    <tr>\n",
       "      <th>2033</th>\n",
       "      <td>SAD</td>\n",
       "    </tr>\n",
       "    <tr>\n",
       "      <th>...</th>\n",
       "      <td>...</td>\n",
       "    </tr>\n",
       "    <tr>\n",
       "      <th>4030</th>\n",
       "      <td>ANG</td>\n",
       "    </tr>\n",
       "    <tr>\n",
       "      <th>614</th>\n",
       "      <td>SAD</td>\n",
       "    </tr>\n",
       "    <tr>\n",
       "      <th>2150</th>\n",
       "      <td>ANG</td>\n",
       "    </tr>\n",
       "    <tr>\n",
       "      <th>4016</th>\n",
       "      <td>NEU</td>\n",
       "    </tr>\n",
       "    <tr>\n",
       "      <th>2036</th>\n",
       "      <td>FEA</td>\n",
       "    </tr>\n",
       "  </tbody>\n",
       "</table>\n",
       "<p>976 rows × 1 columns</p>\n",
       "</div>"
      ],
      "text/plain": [
       "     Emotion\n",
       "2589     DIS\n",
       "628      DIS\n",
       "3624     ANG\n",
       "334      ANG\n",
       "2033     SAD\n",
       "...      ...\n",
       "4030     ANG\n",
       "614      SAD\n",
       "2150     ANG\n",
       "4016     NEU\n",
       "2036     FEA\n",
       "\n",
       "[976 rows x 1 columns]"
      ]
     },
     "execution_count": 40,
     "metadata": {},
     "output_type": "execute_result"
    }
   ],
   "source": [
    "y_test"
   ]
  },
  {
   "cell_type": "code",
   "execution_count": 41,
   "id": "7f1c94d5",
   "metadata": {
    "scrolled": true
   },
   "outputs": [],
   "source": [
    "# Add a column to the y vectors encoding each of the emotions.\n",
    "\n",
    "y_train_dummies = pd.get_dummies(y_train)\n",
    "y_train         = pd.concat([y_train, y_train_dummies], axis=1)\n",
    "\n",
    "y_test_dummies  = pd.get_dummies(y_test)\n",
    "y_test          = pd.concat([y_test, y_test_dummies], axis=1)\n"
   ]
  },
  {
   "cell_type": "code",
   "execution_count": 42,
   "id": "a85f1dae",
   "metadata": {},
   "outputs": [],
   "source": [
    "# Example: try to train a support vector machine with Gaussian radial kernel to distinguish between instances\n",
    "# where emotion is 'HAP' and instances where emotion is 'NEU'. \n",
    "\n",
    "# Get the rows of X_train, X_test corresponding to just the emotions 'HAP' and 'NEU'\n",
    "\n",
    "X_train_hap = X_train.loc[(y_train.Emotion == 'HAP') | (y_train.Emotion == 'NEU')]\n",
    "X_test_hap  = X_test.loc[(y_test.Emotion == 'HAP') | (y_test.Emotion == 'NEU')]\n",
    "\n",
    "\n",
    "# Get the Emotion_ANG column of the ys, with only the rows corresponding to 'ANG' and 'HAP'\n",
    "\n",
    "y_train_hap = y_train.loc[(y_train.Emotion == 'HAP') | (y_train.Emotion == 'NEU')].Emotion_HAP\n",
    "y_test_hap  = y_test.loc[(y_test.Emotion == 'HAP') | (y_test.Emotion == 'NEU')].Emotion_HAP"
   ]
  },
  {
   "cell_type": "code",
   "execution_count": 43,
   "id": "cd9ad558",
   "metadata": {},
   "outputs": [],
   "source": [
    "X_train_ang = X_train.loc[(y_train.Emotion == 'ANG') | (y_train.Emotion == 'NEU')]\n",
    "X_test_ang  = X_test.loc[(y_test.Emotion == 'ANG') | (y_test.Emotion == 'NEU')]\n",
    "\n",
    "y_train_ang = y_train.loc[(y_train.Emotion == 'ANG') | (y_train.Emotion == 'NEU')].Emotion_ANG\n",
    "y_test_ang  = y_test.loc[(y_test.Emotion == 'ANG') | (y_test.Emotion == 'NEU')].Emotion_ANG"
   ]
  },
  {
   "cell_type": "code",
   "execution_count": 44,
   "id": "10b456f8",
   "metadata": {},
   "outputs": [],
   "source": [
    "X_train_sad = X_train.loc[(y_train.Emotion == 'SAD') | (y_train.Emotion == 'NEU')]\n",
    "X_test_sad  = X_test.loc[(y_test.Emotion == 'SAD') | (y_test.Emotion == 'NEU')]\n",
    "\n",
    "y_train_sad = y_train.loc[(y_train.Emotion == 'SAD') | (y_train.Emotion == 'NEU')].Emotion_SAD\n",
    "y_test_sad  = y_test.loc[(y_test.Emotion == 'SAD') | (y_test.Emotion == 'NEU')].Emotion_SAD"
   ]
  },
  {
   "cell_type": "code",
   "execution_count": 45,
   "id": "90818654",
   "metadata": {},
   "outputs": [],
   "source": [
    "X_train_dis = X_train.loc[(y_train.Emotion == 'DIS') | (y_train.Emotion == 'NEU')]\n",
    "X_test_dis  = X_test.loc[(y_test.Emotion == 'DIS') | (y_test.Emotion == 'NEU')]\n",
    "\n",
    "y_train_dis = y_train.loc[(y_train.Emotion == 'DIS') | (y_train.Emotion == 'NEU')].Emotion_DIS\n",
    "y_test_dis  = y_test.loc[(y_test.Emotion == 'DIS') | (y_test.Emotion == 'NEU')].Emotion_DIS"
   ]
  },
  {
   "cell_type": "code",
   "execution_count": 46,
   "id": "14315ade",
   "metadata": {},
   "outputs": [],
   "source": [
    "X_train_fea = X_train.loc[(y_train.Emotion == 'FEA') | (y_train.Emotion == 'NEU')]\n",
    "X_test_fea  = X_test.loc[(y_test.Emotion == 'FEA') | (y_test.Emotion == 'NEU')]\n",
    "\n",
    "y_train_fea = y_train.loc[(y_train.Emotion == 'FEA') | (y_train.Emotion == 'NEU')].Emotion_FEA\n",
    "y_test_fea  = y_test.loc[(y_test.Emotion == 'FEA') | (y_test.Emotion == 'NEU')].Emotion_FEA"
   ]
  },
  {
   "cell_type": "code",
   "execution_count": 47,
   "id": "dd7fa738",
   "metadata": {},
   "outputs": [],
   "source": [
    "#X_train_sub = X_train\n",
    "#X_test_sub  = X_test\n",
    "\n",
    "#y_train_sub = y_train\n",
    "#y_test_sub  = y_test"
   ]
  },
  {
   "cell_type": "code",
   "execution_count": 48,
   "id": "b79e1204",
   "metadata": {},
   "outputs": [
    {
     "name": "stdout",
     "output_type": "stream",
     "text": [
      "X_train_sub (1338, 136)\n",
      "y_train_sub (1338,)\n"
     ]
    }
   ],
   "source": [
    "print(\"X_train_sub\",  X_train_hap.shape)\n",
    "print(\"y_train_sub\",  y_train_hap.shape)"
   ]
  },
  {
   "cell_type": "code",
   "execution_count": 49,
   "id": "80c46759",
   "metadata": {},
   "outputs": [
    {
     "data": {
      "text/plain": [
       "array([0, 1], dtype=uint8)"
      ]
     },
     "execution_count": 49,
     "metadata": {},
     "output_type": "execute_result"
    }
   ],
   "source": [
    "np.unique(y_test_hap)"
   ]
  },
  {
   "cell_type": "code",
   "execution_count": 50,
   "id": "fce1540d",
   "metadata": {},
   "outputs": [],
   "source": [
    "# Build pipeline to first scale the mid feature data, then apply the SVC\n",
    "\n",
    "pipe = Pipeline([('scale', StandardScaler()),\n",
    "                 ('svc', SVC(kernel='rbf'))])\n",
    "\n",
    "\n",
    "# Fit the model to the training data\n",
    "\n",
    "pipe.fit(X_train_hap, y_train_hap)\n",
    "pipe.fit(X_train_ang, y_train_ang)\n",
    "pipe.fit(X_train_sad, y_train_sad)\n",
    "pipe.fit(X_train_dis, y_train_dis)\n",
    "pipe.fit(X_train_fea, y_train_fea)\n",
    "\n",
    "    \n",
    "# Get the model's prediction on the test data\n",
    "\n",
    "pred_hap = pipe.predict(X_test_hap)\n",
    "pred_ang = pipe.predict(X_test_ang)\n",
    "pred_sad = pipe.predict(X_test_sad)\n",
    "pred_dis = pipe.predict(X_test_dis)\n",
    "pred_fea = pipe.predict(X_test_fea)\n",
    "\n",
    "\n"
   ]
  },
  {
   "cell_type": "code",
   "execution_count": 51,
   "id": "0ad669cd",
   "metadata": {},
   "outputs": [
    {
     "name": "stdout",
     "output_type": "stream",
     "text": [
      "confusion matrix for the happy/neutral test set is:\n",
      "[[141  34]\n",
      " [ 69  91]]\n",
      "\n",
      "confusion matrix for the happy/netural train set is:\n",
      "[[659  38]\n",
      " [273 368]]\n"
     ]
    }
   ],
   "source": [
    "# Look at the confusion matrix for the test data :\n",
    "\n",
    "print(\"confusion matrix for the happy/neutral test set is:\")\n",
    "print(confusion_matrix(y_test_hap, pred_hap))\n",
    "print()\n",
    "\n",
    "# Look at the confusion matrix for the training data:\n",
    "pred_train_hap = pipe.predict(X_train_hap)\n",
    "print(\"confusion matrix for the happy/netural train set is:\")\n",
    "print(confusion_matrix(y_train_hap, pred_train_hap))\n"
   ]
  },
  {
   "cell_type": "code",
   "execution_count": 52,
   "id": "7f9f04ea",
   "metadata": {},
   "outputs": [
    {
     "name": "stdout",
     "output_type": "stream",
     "text": [
      "confusion matrix for the angry/neutral test set is:\n",
      "[[141  34]\n",
      " [ 59 101]]\n",
      "\n",
      "confusion matrix for the angry/netural train set is:\n",
      "[[659  38]\n",
      " [220 421]]\n"
     ]
    }
   ],
   "source": [
    "# Look at the confusion matrix for the test data :\n",
    "\n",
    "print(\"confusion matrix for the angry/neutral test set is:\")\n",
    "print(confusion_matrix(y_test_ang, pred_ang))\n",
    "print()\n",
    "\n",
    "# Look at the confusion matrix for the training data:\n",
    "pred_train_ang = pipe.predict(X_train_ang)\n",
    "print(\"confusion matrix for the angry/netural train set is:\")\n",
    "print(confusion_matrix(y_train_ang, pred_train_ang))\n"
   ]
  },
  {
   "cell_type": "code",
   "execution_count": 53,
   "id": "9d5d7866",
   "metadata": {},
   "outputs": [
    {
     "name": "stdout",
     "output_type": "stream",
     "text": [
      "confusion matrix for the sad/neutral test set is:\n",
      "[[141  34]\n",
      " [ 91  69]]\n",
      "\n",
      "confusion matrix for the sad/netural train set is:\n",
      "[[659  38]\n",
      " [366 274]]\n"
     ]
    }
   ],
   "source": [
    "# Look at the confusion matrix for the test data :\n",
    "\n",
    "print(\"confusion matrix for the sad/neutral test set is:\")\n",
    "print(confusion_matrix(y_test_sad, pred_sad))\n",
    "print()\n",
    "\n",
    "# Look at the confusion matrix for the training data:\n",
    "pred_train_sad = pipe.predict(X_train_sad)\n",
    "print(\"confusion matrix for the sad/netural train set is:\")\n",
    "print(confusion_matrix(y_train_sad, pred_train_sad))\n"
   ]
  },
  {
   "cell_type": "code",
   "execution_count": 54,
   "id": "945b427d",
   "metadata": {},
   "outputs": [
    {
     "name": "stdout",
     "output_type": "stream",
     "text": [
      "confusion matrix for the disgust/neutral test set is:\n",
      "[[141  34]\n",
      " [118  43]]\n",
      "\n",
      "confusion matrix for the disgust/netural train set is:\n",
      "[[659  38]\n",
      " [442 198]]\n"
     ]
    }
   ],
   "source": [
    "# Look at the confusion matrix for the test data :\n",
    "\n",
    "print(\"confusion matrix for the disgust/neutral test set is:\")\n",
    "print(confusion_matrix(y_test_dis, pred_dis))\n",
    "print()\n",
    "\n",
    "# Look at the confusion matrix for the training data:\n",
    "pred_train_dis = pipe.predict(X_train_dis)\n",
    "print(\"confusion matrix for the disgust/netural train set is:\")\n",
    "print(confusion_matrix(y_train_dis, pred_train_dis))\n"
   ]
  },
  {
   "cell_type": "code",
   "execution_count": 55,
   "id": "28300d72",
   "metadata": {},
   "outputs": [
    {
     "name": "stdout",
     "output_type": "stream",
     "text": [
      "confusion matrix for the fear/neutral test set is:\n",
      "[[141  34]\n",
      " [ 42 118]]\n",
      "\n",
      "confusion matrix for the fear/netural train set is:\n",
      "[[659  38]\n",
      " [ 47 594]]\n"
     ]
    }
   ],
   "source": [
    "# Look at the confusion matrix for the test data :\n",
    "\n",
    "print(\"confusion matrix for the fear/neutral test set is:\")\n",
    "print(confusion_matrix(y_test_fea, pred_fea))\n",
    "print()\n",
    "\n",
    "# Look at the confusion matrix for the training data:\n",
    "pred_train_fea = pipe.predict(X_train_fea)\n",
    "print(\"confusion matrix for the fear/netural train set is:\")\n",
    "print(confusion_matrix(y_train_fea, pred_train_fea))\n"
   ]
  },
  {
   "cell_type": "code",
   "execution_count": null,
   "id": "9addde40",
   "metadata": {},
   "outputs": [],
   "source": []
  },
  {
   "cell_type": "code",
   "execution_count": null,
   "id": "1c4b447d",
   "metadata": {},
   "outputs": [],
   "source": []
  }
 ],
 "metadata": {
  "kernelspec": {
   "display_name": "Python 3 (ipykernel)",
   "language": "python",
   "name": "python3"
  },
  "language_info": {
   "codemirror_mode": {
    "name": "ipython",
    "version": 3
   },
   "file_extension": ".py",
   "mimetype": "text/x-python",
   "name": "python",
   "nbconvert_exporter": "python",
   "pygments_lexer": "ipython3",
   "version": "3.9.7"
  }
 },
 "nbformat": 4,
 "nbformat_minor": 5
}

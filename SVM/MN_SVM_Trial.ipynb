{
 "cells": [
  {
   "cell_type": "code",
   "execution_count": 1,
   "id": "80d12fe3",
   "metadata": {},
   "outputs": [],
   "source": [
    "import pandas as pd\n",
    "import numpy as np\n",
    "\n",
    "## For plotting\n",
    "import matplotlib.pyplot as plt\n",
    "import seaborn as sns\n",
    "\n",
    "## This sets the plot style\n",
    "## to have a grid on a dark background\n",
    "sns.set_style(\"whitegrid\")"
   ]
  },
  {
   "cell_type": "code",
   "execution_count": 2,
   "id": "d9fecfad",
   "metadata": {},
   "outputs": [],
   "source": [
    "\n",
    "from sklearn.svm import SVC\n",
    "from sklearn.model_selection import train_test_split\n",
    "from sklearn.metrics import confusion_matrix, precision_score\n",
    "from sklearn.model_selection import StratifiedKFold\n",
    "from sklearn.pipeline import Pipeline\n",
    "from sklearn.preprocessing import StandardScaler\n",
    "\n",
    "from sklearn.decomposition import PCA\n",
    "\n",
    "from sklearn.metrics import accuracy_score, confusion_matrix\n",
    "\n",
    "\n"
   ]
  },
  {
   "cell_type": "code",
   "execution_count": 3,
   "id": "ab69a78e",
   "metadata": {},
   "outputs": [
    {
     "name": "stdout",
     "output_type": "stream",
     "text": [
      "(4876, 140)\n"
     ]
    }
   ],
   "source": [
    "# Read in your csv file that has the mid features. \n",
    "\n",
    "#data = pd.read_csv('../Feature Extraction/midFeaturesTrainSet.csv')\n",
    "data = pd.read_csv('midFeaturesTrainFinal.csv')\n",
    "\n",
    "\n",
    "data.head()\n",
    "\n",
    "print(data.shape)"
   ]
  },
  {
   "cell_type": "code",
   "execution_count": 4,
   "id": "eb50b680",
   "metadata": {},
   "outputs": [],
   "source": [
    "# Split the data into train and test set, stratified by Emotion.\n",
    "\n",
    "\n",
    "data_train, data_test = train_test_split(data.copy(),\n",
    "                                   shuffle=True,\n",
    "                                   random_state=608,\n",
    "                                   stratify=data.Emotion,\n",
    "                                   test_size=0.2\n",
    "                                   )"
   ]
  },
  {
   "cell_type": "code",
   "execution_count": 5,
   "id": "e25e4f53",
   "metadata": {},
   "outputs": [
    {
     "data": {
      "text/html": [
       "<div>\n",
       "<style scoped>\n",
       "    .dataframe tbody tr th:only-of-type {\n",
       "        vertical-align: middle;\n",
       "    }\n",
       "\n",
       "    .dataframe tbody tr th {\n",
       "        vertical-align: top;\n",
       "    }\n",
       "\n",
       "    .dataframe thead th {\n",
       "        text-align: right;\n",
       "    }\n",
       "</style>\n",
       "<table border=\"1\" class=\"dataframe\">\n",
       "  <thead>\n",
       "    <tr style=\"text-align: right;\">\n",
       "      <th></th>\n",
       "      <th>FileID</th>\n",
       "      <th>actorID</th>\n",
       "      <th>Emotion</th>\n",
       "      <th>SentenceID</th>\n",
       "      <th>zcr_mean</th>\n",
       "      <th>energy_mean</th>\n",
       "      <th>energy_entropy_mean</th>\n",
       "      <th>spectral_centroid_mean</th>\n",
       "      <th>spectral_spread_mean</th>\n",
       "      <th>spectral_entropy_mean</th>\n",
       "      <th>...</th>\n",
       "      <th>delta chroma_4_std</th>\n",
       "      <th>delta chroma_5_std</th>\n",
       "      <th>delta chroma_6_std</th>\n",
       "      <th>delta chroma_7_std</th>\n",
       "      <th>delta chroma_8_std</th>\n",
       "      <th>delta chroma_9_std</th>\n",
       "      <th>delta chroma_10_std</th>\n",
       "      <th>delta chroma_11_std</th>\n",
       "      <th>delta chroma_12_std</th>\n",
       "      <th>delta chroma_std_std</th>\n",
       "    </tr>\n",
       "  </thead>\n",
       "  <tbody>\n",
       "    <tr>\n",
       "      <th>2098</th>\n",
       "      <td>1041_IWW_HAP_XX</td>\n",
       "      <td>1041</td>\n",
       "      <td>HAP</td>\n",
       "      <td>IWW</td>\n",
       "      <td>0.097183</td>\n",
       "      <td>0.025181</td>\n",
       "      <td>2.952492</td>\n",
       "      <td>0.173057</td>\n",
       "      <td>0.191907</td>\n",
       "      <td>0.460020</td>\n",
       "      <td>...</td>\n",
       "      <td>0.022087</td>\n",
       "      <td>0.015760</td>\n",
       "      <td>0.019101</td>\n",
       "      <td>0.022298</td>\n",
       "      <td>0.023059</td>\n",
       "      <td>0.011283</td>\n",
       "      <td>0.008774</td>\n",
       "      <td>0.011074</td>\n",
       "      <td>0.008833</td>\n",
       "      <td>0.008782</td>\n",
       "    </tr>\n",
       "    <tr>\n",
       "      <th>1055</th>\n",
       "      <td>1019_WSI_FEA_XX</td>\n",
       "      <td>1019</td>\n",
       "      <td>FEA</td>\n",
       "      <td>WSI</td>\n",
       "      <td>0.086710</td>\n",
       "      <td>0.013681</td>\n",
       "      <td>2.948038</td>\n",
       "      <td>0.162403</td>\n",
       "      <td>0.177849</td>\n",
       "      <td>0.539675</td>\n",
       "      <td>...</td>\n",
       "      <td>0.017477</td>\n",
       "      <td>0.014837</td>\n",
       "      <td>0.015586</td>\n",
       "      <td>0.024109</td>\n",
       "      <td>0.004434</td>\n",
       "      <td>0.039619</td>\n",
       "      <td>0.013754</td>\n",
       "      <td>0.003800</td>\n",
       "      <td>0.005539</td>\n",
       "      <td>0.009264</td>\n",
       "    </tr>\n",
       "    <tr>\n",
       "      <th>2546</th>\n",
       "      <td>1050_ITH_ANG_XX</td>\n",
       "      <td>1050</td>\n",
       "      <td>ANG</td>\n",
       "      <td>ITH</td>\n",
       "      <td>0.124939</td>\n",
       "      <td>0.067431</td>\n",
       "      <td>2.903976</td>\n",
       "      <td>0.215148</td>\n",
       "      <td>0.193147</td>\n",
       "      <td>1.175297</td>\n",
       "      <td>...</td>\n",
       "      <td>0.026842</td>\n",
       "      <td>0.016731</td>\n",
       "      <td>0.013254</td>\n",
       "      <td>0.015316</td>\n",
       "      <td>0.022789</td>\n",
       "      <td>0.015017</td>\n",
       "      <td>0.006182</td>\n",
       "      <td>0.012247</td>\n",
       "      <td>0.014102</td>\n",
       "      <td>0.009725</td>\n",
       "    </tr>\n",
       "    <tr>\n",
       "      <th>1862</th>\n",
       "      <td>1035_WSI_SAD_XX</td>\n",
       "      <td>1035</td>\n",
       "      <td>SAD</td>\n",
       "      <td>WSI</td>\n",
       "      <td>0.095291</td>\n",
       "      <td>0.012815</td>\n",
       "      <td>2.850804</td>\n",
       "      <td>0.153246</td>\n",
       "      <td>0.168891</td>\n",
       "      <td>0.614320</td>\n",
       "      <td>...</td>\n",
       "      <td>0.020823</td>\n",
       "      <td>0.025505</td>\n",
       "      <td>0.034566</td>\n",
       "      <td>0.012162</td>\n",
       "      <td>0.027521</td>\n",
       "      <td>0.010594</td>\n",
       "      <td>0.013597</td>\n",
       "      <td>0.019151</td>\n",
       "      <td>0.010667</td>\n",
       "      <td>0.010021</td>\n",
       "    </tr>\n",
       "    <tr>\n",
       "      <th>3975</th>\n",
       "      <td>1076_IWW_SAD_XX</td>\n",
       "      <td>1076</td>\n",
       "      <td>SAD</td>\n",
       "      <td>IWW</td>\n",
       "      <td>0.140928</td>\n",
       "      <td>0.016603</td>\n",
       "      <td>2.819710</td>\n",
       "      <td>0.227279</td>\n",
       "      <td>0.199751</td>\n",
       "      <td>0.735418</td>\n",
       "      <td>...</td>\n",
       "      <td>0.018149</td>\n",
       "      <td>0.009557</td>\n",
       "      <td>0.012562</td>\n",
       "      <td>0.007259</td>\n",
       "      <td>0.010409</td>\n",
       "      <td>0.006090</td>\n",
       "      <td>0.037344</td>\n",
       "      <td>0.026547</td>\n",
       "      <td>0.010242</td>\n",
       "      <td>0.010197</td>\n",
       "    </tr>\n",
       "  </tbody>\n",
       "</table>\n",
       "<p>5 rows × 140 columns</p>\n",
       "</div>"
      ],
      "text/plain": [
       "               FileID  actorID Emotion SentenceID  zcr_mean  energy_mean  \\\n",
       "2098  1041_IWW_HAP_XX     1041     HAP        IWW  0.097183     0.025181   \n",
       "1055  1019_WSI_FEA_XX     1019     FEA        WSI  0.086710     0.013681   \n",
       "2546  1050_ITH_ANG_XX     1050     ANG        ITH  0.124939     0.067431   \n",
       "1862  1035_WSI_SAD_XX     1035     SAD        WSI  0.095291     0.012815   \n",
       "3975  1076_IWW_SAD_XX     1076     SAD        IWW  0.140928     0.016603   \n",
       "\n",
       "      energy_entropy_mean  spectral_centroid_mean  spectral_spread_mean  \\\n",
       "2098             2.952492                0.173057              0.191907   \n",
       "1055             2.948038                0.162403              0.177849   \n",
       "2546             2.903976                0.215148              0.193147   \n",
       "1862             2.850804                0.153246              0.168891   \n",
       "3975             2.819710                0.227279              0.199751   \n",
       "\n",
       "      spectral_entropy_mean  ...  delta chroma_4_std  delta chroma_5_std  \\\n",
       "2098               0.460020  ...            0.022087            0.015760   \n",
       "1055               0.539675  ...            0.017477            0.014837   \n",
       "2546               1.175297  ...            0.026842            0.016731   \n",
       "1862               0.614320  ...            0.020823            0.025505   \n",
       "3975               0.735418  ...            0.018149            0.009557   \n",
       "\n",
       "      delta chroma_6_std  delta chroma_7_std  delta chroma_8_std  \\\n",
       "2098            0.019101            0.022298            0.023059   \n",
       "1055            0.015586            0.024109            0.004434   \n",
       "2546            0.013254            0.015316            0.022789   \n",
       "1862            0.034566            0.012162            0.027521   \n",
       "3975            0.012562            0.007259            0.010409   \n",
       "\n",
       "      delta chroma_9_std  delta chroma_10_std  delta chroma_11_std  \\\n",
       "2098            0.011283             0.008774             0.011074   \n",
       "1055            0.039619             0.013754             0.003800   \n",
       "2546            0.015017             0.006182             0.012247   \n",
       "1862            0.010594             0.013597             0.019151   \n",
       "3975            0.006090             0.037344             0.026547   \n",
       "\n",
       "      delta chroma_12_std  delta chroma_std_std  \n",
       "2098             0.008833              0.008782  \n",
       "1055             0.005539              0.009264  \n",
       "2546             0.014102              0.009725  \n",
       "1862             0.010667              0.010021  \n",
       "3975             0.010242              0.010197  \n",
       "\n",
       "[5 rows x 140 columns]"
      ]
     },
     "execution_count": 5,
     "metadata": {},
     "output_type": "execute_result"
    }
   ],
   "source": [
    "data.sample(5)"
   ]
  },
  {
   "cell_type": "code",
   "execution_count": 6,
   "id": "c38ae0e0",
   "metadata": {},
   "outputs": [
    {
     "data": {
      "text/plain": [
       "NEU    0.178718\n",
       "HAP    0.164359\n",
       "FEA    0.164359\n",
       "ANG    0.164359\n",
       "SAD    0.164103\n",
       "DIS    0.164103\n",
       "Name: Emotion, dtype: float64"
      ]
     },
     "execution_count": 6,
     "metadata": {},
     "output_type": "execute_result"
    }
   ],
   "source": [
    "# Check the percentages of the different emotion categories in the training set\n",
    "\n",
    "data_train.Emotion.value_counts(normalize=True)"
   ]
  },
  {
   "cell_type": "code",
   "execution_count": 7,
   "id": "f2eedfff",
   "metadata": {},
   "outputs": [
    {
     "data": {
      "text/plain": [
       "NEU    0.179303\n",
       "DIS    0.164959\n",
       "ANG    0.163934\n",
       "SAD    0.163934\n",
       "FEA    0.163934\n",
       "HAP    0.163934\n",
       "Name: Emotion, dtype: float64"
      ]
     },
     "execution_count": 7,
     "metadata": {},
     "output_type": "execute_result"
    }
   ],
   "source": [
    "# Check the percentages of the different emotion categories in the test set\n",
    "\n",
    "data_test.Emotion.value_counts(normalize=True)"
   ]
  },
  {
   "cell_type": "code",
   "execution_count": 8,
   "id": "20b917cb",
   "metadata": {},
   "outputs": [],
   "source": [
    "y_train = data_train[['Emotion']]\n",
    "y_test  = data_test[['Emotion']]\n",
    "\n",
    "X_train = data_train.drop(columns  = ['FileID','actorID', 'Emotion', 'SentenceID'])\n",
    "X_test  = data_test.drop(columns   = ['FileID','actorID', 'Emotion', 'SentenceID'])"
   ]
  },
  {
   "cell_type": "code",
   "execution_count": 9,
   "id": "f6115a2b",
   "metadata": {},
   "outputs": [
    {
     "data": {
      "text/html": [
       "<div>\n",
       "<style scoped>\n",
       "    .dataframe tbody tr th:only-of-type {\n",
       "        vertical-align: middle;\n",
       "    }\n",
       "\n",
       "    .dataframe tbody tr th {\n",
       "        vertical-align: top;\n",
       "    }\n",
       "\n",
       "    .dataframe thead th {\n",
       "        text-align: right;\n",
       "    }\n",
       "</style>\n",
       "<table border=\"1\" class=\"dataframe\">\n",
       "  <thead>\n",
       "    <tr style=\"text-align: right;\">\n",
       "      <th></th>\n",
       "      <th>Emotion</th>\n",
       "    </tr>\n",
       "  </thead>\n",
       "  <tbody>\n",
       "    <tr>\n",
       "      <th>2589</th>\n",
       "      <td>DIS</td>\n",
       "    </tr>\n",
       "    <tr>\n",
       "      <th>628</th>\n",
       "      <td>DIS</td>\n",
       "    </tr>\n",
       "    <tr>\n",
       "      <th>3624</th>\n",
       "      <td>ANG</td>\n",
       "    </tr>\n",
       "    <tr>\n",
       "      <th>334</th>\n",
       "      <td>ANG</td>\n",
       "    </tr>\n",
       "    <tr>\n",
       "      <th>2033</th>\n",
       "      <td>SAD</td>\n",
       "    </tr>\n",
       "    <tr>\n",
       "      <th>...</th>\n",
       "      <td>...</td>\n",
       "    </tr>\n",
       "    <tr>\n",
       "      <th>4030</th>\n",
       "      <td>ANG</td>\n",
       "    </tr>\n",
       "    <tr>\n",
       "      <th>614</th>\n",
       "      <td>SAD</td>\n",
       "    </tr>\n",
       "    <tr>\n",
       "      <th>2150</th>\n",
       "      <td>ANG</td>\n",
       "    </tr>\n",
       "    <tr>\n",
       "      <th>4016</th>\n",
       "      <td>NEU</td>\n",
       "    </tr>\n",
       "    <tr>\n",
       "      <th>2036</th>\n",
       "      <td>FEA</td>\n",
       "    </tr>\n",
       "  </tbody>\n",
       "</table>\n",
       "<p>976 rows × 1 columns</p>\n",
       "</div>"
      ],
      "text/plain": [
       "     Emotion\n",
       "2589     DIS\n",
       "628      DIS\n",
       "3624     ANG\n",
       "334      ANG\n",
       "2033     SAD\n",
       "...      ...\n",
       "4030     ANG\n",
       "614      SAD\n",
       "2150     ANG\n",
       "4016     NEU\n",
       "2036     FEA\n",
       "\n",
       "[976 rows x 1 columns]"
      ]
     },
     "execution_count": 9,
     "metadata": {},
     "output_type": "execute_result"
    }
   ],
   "source": [
    "y_test"
   ]
  },
  {
   "cell_type": "code",
   "execution_count": 10,
   "id": "7f1c94d5",
   "metadata": {
    "scrolled": true
   },
   "outputs": [],
   "source": [
    "# Add a column to the y vectors encoding each of the emotions.\n",
    "\n",
    "y_train_dummies = pd.get_dummies(y_train)\n",
    "y_train         = pd.concat([y_train, y_train_dummies], axis=1)\n",
    "\n",
    "y_test_dummies  = pd.get_dummies(y_test)\n",
    "y_test          = pd.concat([y_test, y_test_dummies], axis=1)\n"
   ]
  },
  {
   "cell_type": "code",
   "execution_count": 11,
   "id": "a85f1dae",
   "metadata": {},
   "outputs": [],
   "source": [
    "# Example: try to train a support vector machine with Gaussian radial kernel to distinguish between instances\n",
    "# where emotion is 'ANG' and instances where emotion is 'HAP'. \n",
    "\n",
    "# Get the rows of X_train, X_test corresponding to just the emotions 'ANG' and 'HAP'\n",
    "\n",
    "X_train_sub = X_train.loc[(y_train.Emotion == 'DIS') | (y_train.Emotion == 'NEU')]\n",
    "X_test_sub  = X_test.loc[(y_test.Emotion == 'DIS') | (y_test.Emotion == 'NEU')]\n",
    "\n",
    "\n",
    "# Get the Emotion_ANG column of the ys, with only the rows corresponding to 'ANG' and 'HAP'\n",
    "\n",
    "y_train_sub = y_train.loc[(y_train.Emotion == 'DIS') | (y_train.Emotion == 'NEU')].Emotion_DIS\n",
    "y_test_sub  = y_test.loc[(y_test.Emotion == 'DIS') | (y_test.Emotion == 'NEU')].Emotion_DIS\n",
    "\n"
   ]
  },
  {
   "cell_type": "code",
   "execution_count": 12,
   "id": "dd7fa738",
   "metadata": {},
   "outputs": [],
   "source": [
    "#X_train_sub = X_train\n",
    "#X_test_sub  = X_test\n",
    "\n",
    "#y_train_sub = y_train\n",
    "#y_test_sub  = y_test"
   ]
  },
  {
   "cell_type": "code",
   "execution_count": 13,
   "id": "b79e1204",
   "metadata": {},
   "outputs": [
    {
     "name": "stdout",
     "output_type": "stream",
     "text": [
      "X_train_sub (1337, 136)\n",
      "y_train_sub (1337,)\n"
     ]
    }
   ],
   "source": [
    "print(\"X_train_sub\",  X_train_sub.shape)\n",
    "print(\"y_train_sub\",  y_train_sub.shape)"
   ]
  },
  {
   "cell_type": "code",
   "execution_count": 14,
   "id": "80c46759",
   "metadata": {},
   "outputs": [
    {
     "data": {
      "text/plain": [
       "array([0, 1], dtype=uint8)"
      ]
     },
     "execution_count": 14,
     "metadata": {},
     "output_type": "execute_result"
    }
   ],
   "source": [
    "np.unique(y_test_sub)"
   ]
  },
  {
   "cell_type": "code",
   "execution_count": 15,
   "id": "fce1540d",
   "metadata": {},
   "outputs": [],
   "source": [
    "# Build pipeline to first scale the mid feature data, then apply the SVC\n",
    "\n",
    "pipe = Pipeline([('scale', StandardScaler()),\n",
    "                 ('svc', SVC(kernel='rbf'))])\n",
    "\n",
    "\n",
    "# Fit the model to the training data\n",
    "\n",
    "pipe.fit(X_train_sub, y_train_sub)\n",
    "\n",
    "    \n",
    "# Get the model's prediction on the test data\n",
    "\n",
    "pred = pipe.predict(X_test_sub)\n",
    "\n"
   ]
  },
  {
   "cell_type": "code",
   "execution_count": 16,
   "id": "3d707f5a",
   "metadata": {},
   "outputs": [],
   "source": [
    "# Build pipeline to first scale the mid feature data, then apply the SVC\n",
    "\n",
    "pipe = Pipeline([('scale', StandardScaler()),\n",
    "                 ('svc', SVC(kernel='rbf'))])\n",
    "\n",
    "\n",
    "# Fit the model t#o the training data\n",
    "\n",
    "pipe.fit(X_train_sub, y_train_sub)\n",
    "\n",
    "    \n",
    "# Get the model's prediction on the test data\n",
    "\n",
    "pred = pipe.predict(X_test_sub)\n"
   ]
  },
  {
   "cell_type": "code",
   "execution_count": 17,
   "id": "0ad669cd",
   "metadata": {},
   "outputs": [
    {
     "name": "stdout",
     "output_type": "stream",
     "text": [
      "confusion matrix for the test set is:\n",
      "[[129  46]\n",
      " [ 72  89]]\n",
      "\n",
      "confusion matrix for the train set is:\n",
      "[[638  59]\n",
      " [ 81 559]]\n"
     ]
    }
   ],
   "source": [
    "# Look at the confusion matrix for the test data :\n",
    "\n",
    "print(\"confusion matrix for the test set is:\")\n",
    "print(confusion_matrix(y_test_sub, pred))\n",
    "print()\n",
    "\n",
    "# Look at the confusion matrix for the training data:\n",
    "pred_train = pipe.predict(X_train_sub)\n",
    "print(\"confusion matrix for the train set is:\")\n",
    "print(confusion_matrix(y_train_sub, pred_train))\n"
   ]
  },
  {
   "cell_type": "code",
   "execution_count": null,
   "id": "7f9f04ea",
   "metadata": {},
   "outputs": [],
   "source": []
  },
  {
   "cell_type": "code",
   "execution_count": null,
   "id": "9d5d7866",
   "metadata": {},
   "outputs": [],
   "source": []
  },
  {
   "cell_type": "code",
   "execution_count": null,
   "id": "945b427d",
   "metadata": {},
   "outputs": [],
   "source": []
  }
 ],
 "metadata": {
  "kernelspec": {
   "display_name": "Python 3 (ipykernel)",
   "language": "python",
   "name": "python3"
  },
  "language_info": {
   "codemirror_mode": {
    "name": "ipython",
    "version": 3
   },
   "file_extension": ".py",
   "mimetype": "text/x-python",
   "name": "python",
   "nbconvert_exporter": "python",
   "pygments_lexer": "ipython3",
   "version": "3.9.7"
  }
 },
 "nbformat": 4,
 "nbformat_minor": 5
}

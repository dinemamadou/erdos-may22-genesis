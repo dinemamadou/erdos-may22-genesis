{
 "cells": [
  {
   "cell_type": "code",
   "execution_count": 1,
   "metadata": {},
   "outputs": [],
   "source": [
    "import pandas as pd\n",
    "import numpy as np\n",
    "\n",
    "## For plotting\n",
    "import matplotlib.pyplot as plt\n",
    "import seaborn as sns\n",
    "\n",
    "## This sets the plot style\n",
    "## to have a grid on a dark background\n",
    "sns.set_style(\"whitegrid\")"
   ]
  },
  {
   "cell_type": "code",
   "execution_count": 2,
   "metadata": {},
   "outputs": [],
   "source": [
    "\n",
    "from sklearn.svm import SVC\n",
    "from sklearn.model_selection import train_test_split\n",
    "from sklearn.metrics import confusion_matrix, precision_score\n",
    "from sklearn.model_selection import StratifiedKFold\n",
    "from sklearn.pipeline import Pipeline\n",
    "from sklearn.preprocessing import StandardScaler\n",
    "\n",
    "from sklearn.decomposition import PCA\n",
    "from sklearn.metrics import accuracy_score, confusion_matrix\n"
   ]
  },
  {
   "cell_type": "code",
   "execution_count": 3,
   "metadata": {},
   "outputs": [
    {
     "name": "stdout",
     "output_type": "stream",
     "text": [
      "(4876, 141)\n",
      "(1200, 141)\n"
     ]
    }
   ],
   "source": [
    "# Read in your csv file that has the mid features. \n",
    "\n",
    "#data = pd.read_csv('../Feature Extraction/midFeaturesTrainSet.csv')\n",
    "data_train = pd.read_csv('../Data/Mid_features/df_train_corrLabel.csv')\n",
    "data_test = pd.read_csv('../Data/Mid_features/df_test_all.csv')\n",
    "print(data_train.shape)\n",
    "print(data_test.shape)"
   ]
  },
  {
   "cell_type": "code",
   "execution_count": 4,
   "metadata": {},
   "outputs": [
    {
     "data": {
      "text/plain": [
       "NEU    0.178835\n",
       "ANG    0.164274\n",
       "DIS    0.164274\n",
       "FEA    0.164274\n",
       "HAP    0.164274\n",
       "SAD    0.164069\n",
       "Name: Emotion, dtype: float64"
      ]
     },
     "execution_count": 4,
     "metadata": {},
     "output_type": "execute_result"
    }
   ],
   "source": [
    "# Check the percentages of the different emotion categories in the training set\n",
    "\n",
    "data_train.Emotion.value_counts(normalize=True)"
   ]
  },
  {
   "cell_type": "code",
   "execution_count": 5,
   "metadata": {},
   "outputs": [
    {
     "data": {
      "text/plain": [
       "NEU    0.179167\n",
       "ANG    0.164167\n",
       "DIS    0.164167\n",
       "FEA    0.164167\n",
       "HAP    0.164167\n",
       "SAD    0.164167\n",
       "Name: Emotion, dtype: float64"
      ]
     },
     "execution_count": 5,
     "metadata": {},
     "output_type": "execute_result"
    }
   ],
   "source": [
    "# Check the percentages of the different emotion categories in the test set\n",
    "\n",
    "data_test.Emotion.value_counts(normalize=True)"
   ]
  },
  {
   "cell_type": "code",
   "execution_count": 6,
   "metadata": {},
   "outputs": [],
   "source": [
    "y_train = data_train[['Emotion']]\n",
    "y_test  = data_test[['Emotion']]\n",
    "\n",
    "X_train = data_train.drop(columns  = ['FileID','actorID', 'Emotion', 'SentenceID'])\n",
    "X_test  = data_test.drop(columns   = ['FileID','actorID', 'Emotion', 'SentenceID'])"
   ]
  },
  {
   "cell_type": "code",
   "execution_count": 7,
   "metadata": {},
   "outputs": [
    {
     "data": {
      "text/html": [
       "<div>\n",
       "<style scoped>\n",
       "    .dataframe tbody tr th:only-of-type {\n",
       "        vertical-align: middle;\n",
       "    }\n",
       "\n",
       "    .dataframe tbody tr th {\n",
       "        vertical-align: top;\n",
       "    }\n",
       "\n",
       "    .dataframe thead th {\n",
       "        text-align: right;\n",
       "    }\n",
       "</style>\n",
       "<table border=\"1\" class=\"dataframe\">\n",
       "  <thead>\n",
       "    <tr style=\"text-align: right;\">\n",
       "      <th></th>\n",
       "      <th>Emotion</th>\n",
       "    </tr>\n",
       "  </thead>\n",
       "  <tbody>\n",
       "    <tr>\n",
       "      <th>0</th>\n",
       "      <td>ANG</td>\n",
       "    </tr>\n",
       "    <tr>\n",
       "      <th>1</th>\n",
       "      <td>DIS</td>\n",
       "    </tr>\n",
       "    <tr>\n",
       "      <th>2</th>\n",
       "      <td>FEA</td>\n",
       "    </tr>\n",
       "    <tr>\n",
       "      <th>3</th>\n",
       "      <td>HAP</td>\n",
       "    </tr>\n",
       "    <tr>\n",
       "      <th>4</th>\n",
       "      <td>NEU</td>\n",
       "    </tr>\n",
       "    <tr>\n",
       "      <th>...</th>\n",
       "      <td>...</td>\n",
       "    </tr>\n",
       "    <tr>\n",
       "      <th>1195</th>\n",
       "      <td>DIS</td>\n",
       "    </tr>\n",
       "    <tr>\n",
       "      <th>1196</th>\n",
       "      <td>FEA</td>\n",
       "    </tr>\n",
       "    <tr>\n",
       "      <th>1197</th>\n",
       "      <td>HAP</td>\n",
       "    </tr>\n",
       "    <tr>\n",
       "      <th>1198</th>\n",
       "      <td>NEU</td>\n",
       "    </tr>\n",
       "    <tr>\n",
       "      <th>1199</th>\n",
       "      <td>SAD</td>\n",
       "    </tr>\n",
       "  </tbody>\n",
       "</table>\n",
       "<p>1200 rows × 1 columns</p>\n",
       "</div>"
      ],
      "text/plain": [
       "     Emotion\n",
       "0        ANG\n",
       "1        DIS\n",
       "2        FEA\n",
       "3        HAP\n",
       "4        NEU\n",
       "...      ...\n",
       "1195     DIS\n",
       "1196     FEA\n",
       "1197     HAP\n",
       "1198     NEU\n",
       "1199     SAD\n",
       "\n",
       "[1200 rows x 1 columns]"
      ]
     },
     "execution_count": 7,
     "metadata": {},
     "output_type": "execute_result"
    }
   ],
   "source": [
    "y_test"
   ]
  },
  {
   "cell_type": "code",
   "execution_count": 8,
   "metadata": {},
   "outputs": [
    {
     "name": "stdout",
     "output_type": "stream",
     "text": [
      "(4876, 9)\n",
      "(1200, 9)\n"
     ]
    }
   ],
   "source": [
    "## PCA is stored in decomposition\n",
    "from sklearn.decomposition import PCA\n",
    "\n",
    "pca = PCA(n_components=.9)\n",
    "pca.fit(X_train)\n",
    "pca.explained_variance_ratio_.shape\n",
    "\n",
    "X_train_transform = pca.transform(X_train)\n",
    "X_test_transform  = pca.transform(X_test)\n",
    "\n",
    "print(X_train_transform.shape)\n",
    "print(X_test_transform.shape)\n",
    "\n",
    "X_train[\"comp_1\"] = X_train_transform[:,0]\n",
    "X_train[\"comp_2\"] = X_train_transform[:,1]\n",
    "X_train[\"comp_3\"] = X_train_transform[:,2]\n",
    "X_train[\"comp_4\"] = X_train_transform[:,3]\n",
    "X_train[\"comp_5\"] = X_train_transform[:,4]\n",
    "X_train[\"comp_6\"] = X_train_transform[:,5]\n",
    "X_train[\"comp_7\"] = X_train_transform[:,6]\n",
    "X_train[\"comp_8\"] = X_train_transform[:,7]\n",
    "\n",
    "X_test[\"comp_1\"] = X_test_transform[:,0]\n",
    "X_test[\"comp_2\"] = X_test_transform[:,1]\n",
    "X_test[\"comp_3\"] = X_test_transform[:,2]\n",
    "X_test[\"comp_4\"] = X_test_transform[:,3]\n",
    "X_test[\"comp_5\"] = X_test_transform[:,4]\n",
    "X_test[\"comp_6\"] = X_test_transform[:,5]\n",
    "X_test[\"comp_7\"] = X_test_transform[:,6]\n",
    "X_test[\"comp_8\"] = X_test_transform[:,7]"
   ]
  },
  {
   "cell_type": "code",
   "execution_count": 9,
   "metadata": {
    "scrolled": true
   },
   "outputs": [],
   "source": [
    "# Add a column to the y vectors encoding each of the emotions.\n",
    "\n",
    "y_train_dummies = pd.get_dummies(y_train)\n",
    "y_train         = pd.concat([y_train, y_train_dummies], axis=1)\n",
    "y_train[\"Emotion_ALL\"]  = 1*y_train[\"Emotion_NEU\"] + 2*y_train[\"Emotion_ANG\"] + 3*y_train[\"Emotion_HAP\"] + 4*y_train[\"Emotion_SAD\"] + 5*y_train[\"Emotion_FEA\"] + 6*y_train[\"Emotion_DIS\"]\n",
    "y_train = y_train.drop(columns  = [\"Emotion\", \"Emotion_NEU\", \"Emotion_ANG\", \"Emotion_HAP\", \"Emotion_SAD\", \"Emotion_FEA\", \"Emotion_DIS\"])\n",
    "\n",
    "y_test_dummies = pd.get_dummies(y_test)\n",
    "y_test         = pd.concat([y_test, y_test_dummies], axis=1)\n",
    "y_test[\"Emotion_ALL\"]  = 1*y_test[\"Emotion_NEU\"] + 2*y_test[\"Emotion_ANG\"] + 3*y_test[\"Emotion_HAP\"] + 4*y_test[\"Emotion_SAD\"] + 5*y_test[\"Emotion_FEA\"] + 6*y_test[\"Emotion_DIS\"]\n",
    "y_test  = y_test.drop(columns   = [\"Emotion\", \"Emotion_NEU\", \"Emotion_ANG\", \"Emotion_HAP\", \"Emotion_SAD\", \"Emotion_FEA\", \"Emotion_DIS\"])\n"
   ]
  },
  {
   "cell_type": "code",
   "execution_count": 10,
   "metadata": {},
   "outputs": [],
   "source": [
    "X_train_sub = X_train [[\"comp_1\", \"comp_2\", \"comp_3\", \"comp_4\", \"comp_5\", \"comp_6\", \"comp_7\", \"comp_8\"]]\n",
    "X_test_sub  = X_test [[\"comp_1\", \"comp_2\", \"comp_3\", \"comp_4\", \"comp_5\", \"comp_6\", \"comp_7\", \"comp_8\"]]\n",
    "\n",
    "y_train_sub = y_train\n",
    "y_test_sub  = y_test"
   ]
  },
  {
   "cell_type": "code",
   "execution_count": 11,
   "metadata": {},
   "outputs": [
    {
     "data": {
      "text/plain": [
       "array([1, 2, 3, 4, 5, 6], dtype=uint8)"
      ]
     },
     "execution_count": 11,
     "metadata": {},
     "output_type": "execute_result"
    }
   ],
   "source": [
    "np.unique(y_test)"
   ]
  },
  {
   "cell_type": "code",
   "execution_count": 12,
   "metadata": {},
   "outputs": [
    {
     "name": "stderr",
     "output_type": "stream",
     "text": [
      "/opt/anaconda3/lib/python3.8/site-packages/sklearn/utils/validation.py:1111: DataConversionWarning: A column-vector y was passed when a 1d array was expected. Please change the shape of y to (n_samples, ), for example using ravel().\n",
      "  y = column_or_1d(y, warn=True)\n"
     ]
    }
   ],
   "source": [
    "# Build pipeline to first scale the mid feature data, then apply the SVC\n",
    "\n",
    "pipe = Pipeline([('scale', StandardScaler()),\n",
    "                 ('svc', SVC(kernel='rbf'))])\n",
    "\n",
    "\n",
    "# Fit the model to the training data\n",
    "classifier = pipe.fit(X_train_sub, y_train_sub)\n",
    "\n",
    "# Get the model's prediction on the test data\n",
    "pred = pipe.predict(X_test_sub)\n",
    "\n",
    "\n"
   ]
  },
  {
   "cell_type": "code",
   "execution_count": 13,
   "metadata": {},
   "outputs": [
    {
     "name": "stdout",
     "output_type": "stream",
     "text": [
      "confusion matrix for all six emotions of the test set is:\n",
      "[[187  14   2   5   3   4]\n",
      " [ 27  88  33  11   9  29]\n",
      " [ 31  24  66  23  25  28]\n",
      " [ 44   5  19  73  32  24]\n",
      " [ 33  11  33  56  44  20]\n",
      " [ 40  14  34  50  16  43]]\n",
      "\n",
      "confusion matrix for all six emotions of the train set is:\n",
      "[[776  58   3  18   6  11]\n",
      " [110 362 138  72  38  81]\n",
      " [ 95  87 287 135  79 118]\n",
      " [ 97  10  88 440  66  99]\n",
      " [126  63 138 162 260  52]\n",
      " [119  70 124 192  55 241]]\n"
     ]
    }
   ],
   "source": [
    "# Look at the confusion matrix for the test data :\n",
    "cnf_matrix_test = confusion_matrix(y_test_sub, pred)\n",
    "\n",
    "print(\"confusion matrix for all six emotions of the test set is:\")\n",
    "print(cnf_matrix_test)\n",
    "print()\n",
    "\n",
    "# Look at the confusion matrix for the training data:\n",
    "pred_train = pipe.predict(X_train_sub)\n",
    "cnf_matrix_train = confusion_matrix(y_train_sub, pred_train)\n",
    "\n",
    "print(\"confusion matrix for all six emotions of the train set is:\")\n",
    "print(cnf_matrix_train)\n"
   ]
  },
  {
   "cell_type": "code",
   "execution_count": 14,
   "metadata": {},
   "outputs": [],
   "source": [
    "from sklearn.metrics import plot_confusion_matrix\n",
    "class_names = [\"NEU\", \"ANG\", \"HAP\", \"SAD\", \"FEA\", \"DIS\"]"
   ]
  },
  {
   "cell_type": "code",
   "execution_count": 15,
   "metadata": {},
   "outputs": [
    {
     "name": "stderr",
     "output_type": "stream",
     "text": [
      "/opt/anaconda3/lib/python3.8/site-packages/sklearn/utils/deprecation.py:87: FutureWarning: Function plot_confusion_matrix is deprecated; Function `plot_confusion_matrix` is deprecated in 1.0 and will be removed in 1.2. Use one of the class methods: ConfusionMatrixDisplay.from_predictions or ConfusionMatrixDisplay.from_estimator.\n",
      "  warnings.warn(msg, category=FutureWarning)\n"
     ]
    },
    {
     "data": {
      "image/png": "[encoded data removed]",
      "text/plain": [
       "<Figure size 432x288 with 2 Axes>"
      ]
     },
     "metadata": {},
     "output_type": "display_data"
    }
   ],
   "source": [
    "disp = plot_confusion_matrix(classifier, X_test_sub, y_test_sub,\n",
    "                                 display_labels=class_names,\n",
    "                                 cmap=plt.cm.Blues)\n",
    "plt.show()"
   ]
  },
  {
   "cell_type": "code",
   "execution_count": 16,
   "metadata": {},
   "outputs": [],
   "source": [
    "\n",
    "FP = cnf_matrix_test.sum(axis=0) - np.diag(cnf_matrix_test) \n",
    "FN = cnf_matrix_test.sum(axis=1) - np.diag(cnf_matrix_test)\n",
    "TP = np.diag(cnf_matrix_test)\n",
    "TN = cnf_matrix_test.sum() - (FP + FN + TP)"
   ]
  },
  {
   "cell_type": "code",
   "execution_count": 17,
   "metadata": {},
   "outputs": [],
   "source": [
    "FP = FP.astype(float)\n",
    "FN = FN.astype(float)\n",
    "TP = TP.astype(float)\n",
    "TN = TN.astype(float)\n",
    "# Sensitivity, hit rate, recall, or true positive rate\n",
    "TPR = TP/(TP+FN)\n",
    "# Specificity or true negative rate\n",
    "TNR = TN/(TN+FP) \n",
    "# Precision or positive predictive value\n",
    "PPV = TP/(TP+FP)\n",
    "# Negative predictive value\n",
    "NPV = TN/(TN+FN)\n",
    "# Fall out or false positive rate\n",
    "FPR = FP/(FP+TN)\n",
    "# False negative rate\n",
    "FNR = FN/(TP+FN)\n",
    "# False discovery rate\n",
    "FDR = FP/(TP+FP)\n",
    "# Overall accuracy for each class\n",
    "ACC = (TP+TN)/(TP+FP+FN+TN)"
   ]
  },
  {
   "cell_type": "code",
   "execution_count": 18,
   "metadata": {},
   "outputs": [
    {
     "data": {
      "text/plain": [
       "array([0.83083333, 0.8525    , 0.79      , 0.77583333, 0.80166667,\n",
       "       0.78416667])"
      ]
     },
     "execution_count": 18,
     "metadata": {},
     "output_type": "execute_result"
    }
   ],
   "source": [
    "ACC"
   ]
  },
  {
   "cell_type": "code",
   "execution_count": null,
   "metadata": {},
   "outputs": [],
   "source": [
    "TP/sum(cnf_matrix_test)"
   ]
  },
  {
   "cell_type": "code",
   "execution_count": null,
   "metadata": {},
   "outputs": [],
   "source": []
  }
 ],
 "metadata": {
  "kernelspec": {
   "display_name": "Python 3",
   "language": "python",
   "name": "python3"
  },
  "language_info": {
   "codemirror_mode": {
    "name": "ipython",
    "version": 3
   },
   "file_extension": ".py",
   "mimetype": "text/x-python",
   "name": "python",
   "nbconvert_exporter": "python",
   "pygments_lexer": "ipython3",
   "version": "3.8.3"
  }
 },
 "nbformat": 4,
 "nbformat_minor": 5
}

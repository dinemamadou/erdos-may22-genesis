{
 "cells": [
  {
   "cell_type": "code",
   "execution_count": null,
   "id": "cfbee6fb",
   "metadata": {},
   "outputs": [],
   "source": [
    "from pyAudioAnalysis import MidTermFeatures as mF\n",
    "import os\n",
    "import numpy as np\n",
    "import pandas as pd\n",
    "import plotly.graph_objs as go\n",
    "import plotly\n",
    "\n",
    "import matplotlib.pyplot as plt\n",
    "import seaborn as sns\n",
    "\n",
    "sns.set_style(\"whitegrid\")"
   ]
  },
  {
   "cell_type": "code",
   "execution_count": null,
   "id": "d2168753",
   "metadata": {},
   "outputs": [],
   "source": [
    "#data = np.load('Feature Extraction/Features/MidFeatures_0.50_0.10.npz')"
   ]
  },
  {
   "cell_type": "code",
   "execution_count": null,
   "id": "74089e8b",
   "metadata": {},
   "outputs": [],
   "source": [
    "#fn = data['fn']\n",
    "#mFeatures = data['mFeatures']\n",
    "#m_step = data['m_step']\n",
    "#m_win = data['m_win']\n",
    "#s_step = data['s_step']\n",
    "#s_win = data['s_win']"
   ]
  },
  {
   "cell_type": "code",
   "execution_count": null,
   "id": "94acdcb1",
   "metadata": {},
   "outputs": [],
   "source": [
    "#print(len(fn))\n",
    "#print(fn)"
   ]
  },
  {
   "cell_type": "code",
   "execution_count": null,
   "id": "490f3fe9",
   "metadata": {},
   "outputs": [],
   "source": [
    "data    = pd.read_csv('midFeaturesTrainFinalWithChars.csv', dtype='category')\n",
    "data"
   ]
  },
  {
   "cell_type": "code",
   "execution_count": null,
   "id": "014a9414",
   "metadata": {},
   "outputs": [],
   "source": [
    "#data_dummies = pd.get_dummies(data.Emotion)\n",
    "#data1         = pd.concat([data, data_dummies], axis=1)\n",
    "data1 = data"
   ]
  },
  {
   "cell_type": "code",
   "execution_count": 1,
   "id": "8c97a723",
   "metadata": {},
   "outputs": [
    {
     "ename": "NameError",
     "evalue": "name 'data' is not defined",
     "output_type": "error",
     "traceback": [
      "\u001b[0;31m---------------------------------------------------------------------------\u001b[0m",
      "\u001b[0;31mNameError\u001b[0m                                 Traceback (most recent call last)",
      "\u001b[0;32m/tmp/ipykernel_1133583/2252060110.py\u001b[0m in \u001b[0;36m<module>\u001b[0;34m\u001b[0m\n\u001b[0;32m----> 1\u001b[0;31m \u001b[0mfn1\u001b[0m \u001b[0;34m=\u001b[0m \u001b[0mdata\u001b[0m\u001b[0;34m.\u001b[0m\u001b[0mcolumns\u001b[0m\u001b[0;34m\u001b[0m\u001b[0;34m\u001b[0m\u001b[0m\n\u001b[0m\u001b[1;32m      2\u001b[0m \u001b[0mfn\u001b[0m  \u001b[0;34m=\u001b[0m \u001b[0mfn1\u001b[0m\u001b[0;34m.\u001b[0m\u001b[0mdrop\u001b[0m\u001b[0;34m(\u001b[0m\u001b[0;34m[\u001b[0m\u001b[0;34m'FileID'\u001b[0m\u001b[0;34m,\u001b[0m \u001b[0;34m'actorID'\u001b[0m\u001b[0;34m,\u001b[0m \u001b[0;34m'Emotion'\u001b[0m\u001b[0;34m,\u001b[0m \u001b[0;34m'SentenceID'\u001b[0m\u001b[0;34m,\u001b[0m \u001b[0;34m'Age'\u001b[0m\u001b[0;34m,\u001b[0m \u001b[0;34m'Sex'\u001b[0m\u001b[0;34m,\u001b[0m \u001b[0;34m'Race'\u001b[0m\u001b[0;34m,\u001b[0m \u001b[0;34m'Ethnicity'\u001b[0m\u001b[0;34m]\u001b[0m\u001b[0;34m)\u001b[0m\u001b[0;34m\u001b[0m\u001b[0;34m\u001b[0m\u001b[0m\n\u001b[1;32m      3\u001b[0m \u001b[0mfn\u001b[0m\u001b[0;34m\u001b[0m\u001b[0;34m\u001b[0m\u001b[0m\n",
      "\u001b[0;31mNameError\u001b[0m: name 'data' is not defined"
     ]
    }
   ],
   "source": [
    "fn1 = data.columns\n",
    "fn  = fn1.drop(['FileID', 'actorID', 'Emotion', 'SentenceID', 'Age', 'Sex', 'Race', 'Ethnicity'])\n",
    "fn"
   ]
  },
  {
   "cell_type": "code",
   "execution_count": null,
   "id": "cc50d84c",
   "metadata": {},
   "outputs": [],
   "source": [
    "data1."
   ]
  },
  {
   "cell_type": "code",
   "execution_count": null,
   "id": "46ec00ac",
   "metadata": {},
   "outputs": [],
   "source": [
    "emotions = data1.Emotion.cat.categories\n",
    "\n",
    "## histograms\n",
    "nFeatures = 68\n",
    "for i in range(nFeatures):\n",
    "    fig, axes = plt.subplots(1, 2, figsize=[7.5,2.5])\n",
    "    \n",
    "    column_mean = fn[i]\n",
    "    column_std = fn[nFeatures+i]\n",
    "    \n",
    "    sns.histplot(data=data1, x=column_mean, hue=data1.Emotion,\n",
    "                 ax=axes[0],\n",
    "                 palette='Set1', alpha=0.5, bins = 30)\n",
    "    axes[0].set(xlabel=None)\n",
    "    axes[0].set(ylabel=None)\n",
    "    axes[0].set_title(column_mean)\n",
    "    \n",
    "    sns.histplot(data=data1, x=column_std, hue=data1.Emotion,\n",
    "                 ax=axes[1],\n",
    "                 palette='Set1', alpha=0.5, bins = 30)\n",
    "    axes[1].set(xlabel=None)\n",
    "    axes[1].set(ylabel=None)\n",
    "    axes[1].set_title(column_std)\n",
    "    \n",
    "    # title = '_'.join(column_mean.split('_')[:-1])\n",
    "    # fig.suptitle(title)\n",
    "    plt.show()"
   ]
  },
  {
   "cell_type": "code",
   "execution_count": null,
   "id": "a2501376",
   "metadata": {},
   "outputs": [],
   "source": [
    "data.loc[data.Emotion == 'ANG'].zcr_mean"
   ]
  },
  {
   "cell_type": "code",
   "execution_count": null,
   "id": "11d4c4ec",
   "metadata": {},
   "outputs": [],
   "source": [
    "#feat1 = 'spectral_rolloff_mean'\n",
    "#feat2 = 'energy_mean'\n",
    "#color = 'Emotion'\n",
    "plt.figure(figsize=(10,8))\n",
    "plt.scatter(data.loc[data.Emotion == 'ANG'].zcr_mean,\n",
    "            data.loc[data.Emotion == 'ANG'].energy_mean,\n",
    "            c='blue',\n",
    "            label=\"0\")\n",
    "plt.xticks(fontsize=16)\n",
    "plt.yticks(fontsize=16)\n",
    "plt.xlabel(\"Sepal Width\", fontsize=18)\n",
    "plt.ylabel(\"Sepal Length\", fontsize=18)\n",
    "plt.legend(fontsize=18)\n",
    "\n",
    "plt.show()\n"
   ]
  },
  {
   "cell_type": "code",
   "execution_count": null,
   "id": "6344bb9d",
   "metadata": {
    "scrolled": false
   },
   "outputs": [],
   "source": [
    "df_mid_2 = pd.get_dummies(df_mid.Emotion, prefix='Emotion')\n",
    "df_mid_2 = pd.concat((df_mid,df_mid_2), axis=1)\n",
    "df_mid_2"
   ]
  },
  {
   "cell_type": "code",
   "execution_count": null,
   "id": "717aad54",
   "metadata": {},
   "outputs": [],
   "source": [
    "df_mid_2['ANG_or_HAP'] = df_mid_2.Emotion_ANG+2*df_mid_2.Emotion_HAP"
   ]
  },
  {
   "cell_type": "code",
   "execution_count": null,
   "id": "915ae349",
   "metadata": {},
   "outputs": [],
   "source": [
    "df_mid_2"
   ]
  },
  {
   "cell_type": "code",
   "execution_count": null,
   "id": "8668c335",
   "metadata": {
    "scrolled": true
   },
   "outputs": [],
   "source": [
    "feat1 = 'spectral_rolloff_mean'\n",
    "feat2 = 'energy_mean'\n",
    "color = 'Emotion'\n",
    "\n",
    "for emotion in np.unique(df_mid_2.Emotion.values):\n",
    "    plt.figure()\n",
    "    sns.scatterplot(data=df_mid_2[df_mid_2.Emotion.isin([emotion])],\n",
    "                    x=feat1,  y=feat2,\n",
    "                    hue=color,\n",
    "                    alpha=0.5)\n",
    "\n",
    "    plt.xlabel(feat1)\n",
    "    plt.ylabel(feat2)\n",
    "\n",
    "    plt.xlim([0,0.55])\n",
    "    plt.ylim([0,0.1])"
   ]
  },
  {
   "cell_type": "code",
   "execution_count": null,
   "id": "5efd0efc",
   "metadata": {},
   "outputs": [],
   "source": [
    "from sklearn.svm import SVC"
   ]
  },
  {
   "cell_type": "code",
   "execution_count": null,
   "id": "61e48104",
   "metadata": {},
   "outputs": [],
   "source": [
    "feat1 = 'spectral_rolloff_mean'\n",
    "feat2 = 'energy_mean'\n",
    "\n",
    "emotion1 = 'ANG'\n",
    "emotion2 = 'HAP'\n",
    "\n",
    "F1 = df_mid_2[df_mid_2.emotion.isin([emotion1])]\n",
    "F2 = df_mid_2[df_mid_2.emotion.isin([emotion2])]\n",
    "\n",
    "f1 = np.array([F1[feat1],\n",
    "               F1[feat2]])\n",
    "f2 = np.array([F2[feat1],\n",
    "               F2[feat2]])\n",
    "\n",
    "# plot 2D features\n",
    "p1 = go.Scatter(x=f1[0, :],  y=f1[1, :], name=emotion1,\n",
    "                marker=dict(size=10,color='rgba(255, 182, 193, .9)'),\n",
    "                mode='markers')\n",
    "p2 = go.Scatter(x=f2[0, :], y=f2[1, :],  name=emotion2, \n",
    "                marker=dict(size=10,color='rgba(100, 100, 220, .9)'),\n",
    "                mode='markers')\n",
    "mylayout = go.Layout(xaxis=dict(title=feat1),\n",
    "                     yaxis=dict(title=feat2))\n",
    "\n",
    "y = np.concatenate((np.zeros(f1.shape[1]), np.ones(f2.shape[1]))) \n",
    "f = np.concatenate((f1.T, f2.T), axis = 0)\n",
    "\n",
    "# train the svm classifier\n",
    "cl = SVC(kernel='rbf', C=20) \n",
    "cl.fit(f, y) \n",
    "# apply the trained model on the points of a grid\n",
    "x_ = np.arange(f[:, 0].min(), f[:, 0].max(), 0.002) \n",
    "y_ = np.arange(f[:, 1].min(), f[:, 1].max(), 0.002) \n",
    "xx, yy = np.meshgrid(x_, y_) \n",
    "Z = cl.predict(np.c_[xx.ravel(), yy.ravel()]).reshape(xx.shape) / 2 \n",
    "# and visualize the grid on the same plot (decision surfaces)\n",
    "cs = go.Heatmap(x=x_, y=y_, z=Z, showscale=False, \n",
    "               colorscale= [[0, 'rgba(255, 182, 193, .3)'], \n",
    "                           [1, 'rgba(100, 100, 220, .3)']]) \n",
    "mylayout = go.Layout(xaxis=dict(title=\"spectral_centroid_mean\"),\n",
    "                     yaxis=dict(title=\"energy_entropy_mean\"))\n",
    "plotly.offline.iplot(go.Figure(data=[p1, p2, cs], layout=mylayout))"
   ]
  },
  {
   "cell_type": "markdown",
   "id": "729d33dc",
   "metadata": {},
   "source": [
    "## Histograms"
   ]
  },
  {
   "cell_type": "code",
   "execution_count": null,
   "id": "e25e97e5",
   "metadata": {},
   "outputs": [],
   "source": [
    "print(fn)\n",
    "print(len(fn))"
   ]
  },
  {
   "cell_type": "code",
   "execution_count": null,
   "id": "c1f6b35e",
   "metadata": {
    "scrolled": false
   },
   "outputs": [],
   "source": [
    "emotions = df_mid.Emotion.cat.categories\n",
    "\n",
    "## histograms\n",
    "nFeatures = 68\n",
    "for i in range(nFeatures):\n",
    "    fig, axes = plt.subplots(1, 2, figsize=[7.5,2.5])\n",
    "    \n",
    "    column_mean = fn[i]\n",
    "    column_std = fn[nFeatures+i]\n",
    "    \n",
    "    sns.histplot(data=df_mid, x=column_mean, hue=df_mid.Emotion,\n",
    "                 ax=axes[0],\n",
    "                 palette='Set1', alpha=0.5, bins = 30)\n",
    "    axes[0].set(xlabel=None)\n",
    "    axes[0].set(ylabel=None)\n",
    "    axes[0].set_title(column_mean)\n",
    "    \n",
    "    sns.histplot(data=df_mid, x=column_std, hue=df_mid.Emotion,\n",
    "                 ax=axes[1],\n",
    "                 palette='Set1', alpha=0.5, bins = 30)\n",
    "    axes[1].set(xlabel=None)\n",
    "    axes[1].set(ylabel=None)\n",
    "    axes[1].set_title(column_std)\n",
    "    \n",
    "    # title = '_'.join(column_mean.split('_')[:-1])\n",
    "    # fig.suptitle(title)\n",
    "    plt.show()"
   ]
  },
  {
   "cell_type": "markdown",
   "id": "12bd7888",
   "metadata": {},
   "source": [
    "Second set of variables"
   ]
  },
  {
   "cell_type": "code",
   "execution_count": null,
   "id": "02a94988",
   "metadata": {},
   "outputs": [],
   "source": []
  }
 ],
 "metadata": {
  "kernelspec": {
   "display_name": "Python 3 (ipykernel)",
   "language": "python",
   "name": "python3"
  },
  "language_info": {
   "codemirror_mode": {
    "name": "ipython",
    "version": 3
   },
   "file_extension": ".py",
   "mimetype": "text/x-python",
   "name": "python",
   "nbconvert_exporter": "python",
   "pygments_lexer": "ipython3",
   "version": "3.9.7"
  }
 },
 "nbformat": 4,
 "nbformat_minor": 5
}

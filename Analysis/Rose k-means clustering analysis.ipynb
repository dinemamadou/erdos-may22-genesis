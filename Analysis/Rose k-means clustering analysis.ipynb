{
 "cells": [
  {
   "cell_type": "code",
   "execution_count": 66,
   "id": "080cc757",
   "metadata": {},
   "outputs": [],
   "source": [
    "import pandas as pd\n",
    "import numpy as np\n",
    "\n",
    "## For plotting\n",
    "import matplotlib.pyplot as plt\n",
    "import seaborn as sns\n",
    "\n",
    "## This sets the plot style\n",
    "## to have a grid on a dark background\n",
    "sns.set_style(\"whitegrid\")\n",
    "\n",
    "\n",
    "from sklearn.model_selection import train_test_split"
   ]
  },
  {
   "cell_type": "code",
   "execution_count": 67,
   "id": "67f41d28",
   "metadata": {},
   "outputs": [],
   "source": [
    "# load the clustering data into a numpy array\n",
    "\n",
    "clusters = np.loadtxt('pathname.txt').astype(int)\n"
   ]
  },
  {
   "cell_type": "code",
   "execution_count": 68,
   "id": "f5729171",
   "metadata": {},
   "outputs": [],
   "source": [
    "# load the dataframe with all the mid data\n",
    "\n",
    "data = pd.read_csv('../Feature Extraction/midFeaturesAll.csv')"
   ]
  },
  {
   "cell_type": "code",
   "execution_count": 69,
   "id": "9bd28bdd",
   "metadata": {},
   "outputs": [],
   "source": [
    "data_train, data_test = train_test_split(data.copy(),\n",
    "                                   shuffle=True,\n",
    "                                   random_state=608,\n",
    "                                   stratify=data.Emotion,\n",
    "                                   test_size=0.2\n",
    "                                   )"
   ]
  },
  {
   "cell_type": "code",
   "execution_count": 70,
   "id": "dfb02811",
   "metadata": {},
   "outputs": [],
   "source": [
    "data_train['Cluster'] = clusters"
   ]
  },
  {
   "cell_type": "code",
   "execution_count": 71,
   "id": "1dc06e48",
   "metadata": {},
   "outputs": [
    {
     "name": "stdout",
     "output_type": "stream",
     "text": [
      "The data in cluster  0  have the following emotional frequencies:\n",
      "ANG    0.161983\n",
      "SAD    0.173554\n",
      "HAP    0.183471\n",
      "NEU    0.147107\n",
      "FEA    0.173554\n",
      "DIS    0.160331\n",
      "Name: Emotion, dtype: float64\n",
      "The data in cluster  1  have the following emotional frequencies:\n",
      "DIS    0.181265\n",
      "SAD    0.181265\n",
      "FEA    0.161800\n",
      "HAP    0.194647\n",
      "ANG    0.144769\n",
      "NEU    0.136253\n",
      "Name: Emotion, dtype: float64\n",
      "The data in cluster  2  have the following emotional frequencies:\n",
      "NEU    0.145455\n",
      "FEA    0.187879\n",
      "SAD    0.180303\n",
      "ANG    0.177273\n",
      "HAP    0.150000\n",
      "DIS    0.159091\n",
      "Name: Emotion, dtype: float64\n",
      "The data in cluster  3  have the following emotional frequencies:\n",
      "NEU    0.154610\n",
      "DIS    0.165248\n",
      "FEA    0.147518\n",
      "HAP    0.171631\n",
      "ANG    0.188652\n",
      "SAD    0.172340\n",
      "Name: Emotion, dtype: float64\n",
      "The data in cluster  4  have the following emotional frequencies:\n",
      "ANG    0.158658\n",
      "DIS    0.172257\n",
      "HAP    0.168631\n",
      "FEA    0.183137\n",
      "SAD    0.155032\n",
      "NEU    0.162285\n",
      "Name: Emotion, dtype: float64\n",
      "The data in cluster  5  have the following emotional frequencies:\n",
      "SAD    0.169993\n",
      "FEA    0.181079\n",
      "ANG    0.178123\n",
      "DIS    0.179601\n",
      "HAP    0.161863\n",
      "NEU    0.129342\n",
      "Name: Emotion, dtype: float64\n"
     ]
    }
   ],
   "source": [
    "# What are the proportions of different emotions in the different clusters?\n",
    "\n",
    "for c in range(6):\n",
    "    df = data_train.loc[data_train.Cluster == c]\n",
    "    emo_vals = df.Emotion.value_counts(normalize=True, sort=False)\n",
    "    print('The data in cluster ', c, ' have the following emotional frequencies:')\n",
    "    print(emo_vals)\n",
    "\n",
    "\n"
   ]
  },
  {
   "cell_type": "code",
   "execution_count": 72,
   "id": "75f753a7",
   "metadata": {},
   "outputs": [],
   "source": [
    "# Get a list L of dicts, where each dict has type emo:freq for one of the clusters\n",
    "\n",
    "\n",
    "L = []\n",
    "\n",
    "for c in range(6):\n",
    "    df = data_train.loc[data_train.Cluster == c]\n",
    "    emo_vals = df.Emotion.value_counts(normalize=True, sort=False)\n",
    "    dict = emo_vals.to_dict()\n",
    "    L.append(dict)\n",
    "    \n",
    "\n",
    "    "
   ]
  },
  {
   "cell_type": "code",
   "execution_count": 73,
   "id": "fe546dbb",
   "metadata": {},
   "outputs": [],
   "source": [
    "# Get a list L_emo_clusters_ordered, with entries lists of emo freqs for the clusters, \n",
    "# where emotions are ordered the same\n",
    "\n",
    "\n",
    "emotions = ['ANG', 'SAD', 'HAP', 'NEU', 'FEA', 'DIS']\n",
    "\n",
    "L_emo_clusters_ordered = []\n",
    "\n",
    "for c in range(6):\n",
    "    list = []\n",
    "    for emo in emotions:\n",
    "        freq = L[c][emo]\n",
    "        list.append(freq)\n",
    "    L_emo_clusters_ordered.append(list)\n",
    "\n"
   ]
  },
  {
   "cell_type": "code",
   "execution_count": 74,
   "id": "cff55662",
   "metadata": {},
   "outputs": [
    {
     "data": {
      "image/png": "[encoded data removed]",
      "text/plain": [
       "<Figure size 1080x432 with 6 Axes>"
      ]
     },
     "metadata": {},
     "output_type": "display_data"
    }
   ],
   "source": [
    "# Plot emotional frequency in each cluster as a bar chart\n",
    "\n",
    "\n",
    "fig, axes = plt.subplots(2, 3, figsize = (15,6), sharey=True)\n",
    "fig.suptitle('Emotions across clusters')\n",
    "\n",
    "\n",
    "axes[0, 0].bar(emotions, L_emo_clusters_ordered[0])\n",
    "axes[0, 0].set_title('Cluster 0')\n",
    "\n",
    "axes[0, 1].bar(emotions, L_emo_clusters_ordered[1])\n",
    "axes[0, 1].set_title('Cluster 1')\n",
    "\n",
    "axes[0, 2].bar(emotions, L_emo_clusters_ordered[2])\n",
    "axes[0, 2].set_title('Cluster 2')\n",
    "\n",
    "axes[1, 0].bar(emotions, L_emo_clusters_ordered[3])\n",
    "axes[1, 0].set_title('Cluster 3')\n",
    "\n",
    "axes[1, 1].bar(emotions, L_emo_clusters_ordered[4])\n",
    "axes[1, 1].set_title('Cluster 4')\n",
    "\n",
    "axes[1, 2].bar(emotions, L_emo_clusters_ordered[5])\n",
    "axes[1, 2].set_title('Cluster 5')\n",
    "\n",
    "plt.show()\n",
    "\n"
   ]
  },
  {
   "cell_type": "code",
   "execution_count": null,
   "id": "7fcc2028",
   "metadata": {},
   "outputs": [],
   "source": []
  },
  {
   "cell_type": "code",
   "execution_count": null,
   "id": "05e1faae",
   "metadata": {},
   "outputs": [],
   "source": []
  }
 ],
 "metadata": {
  "kernelspec": {
   "display_name": "Python 3 (ipykernel)",
   "language": "python",
   "name": "python3"
  },
  "language_info": {
   "codemirror_mode": {
    "name": "ipython",
    "version": 3
   },
   "file_extension": ".py",
   "mimetype": "text/x-python",
   "name": "python",
   "nbconvert_exporter": "python",
   "pygments_lexer": "ipython3",
   "version": "3.8.8"
  }
 },
 "nbformat": 4,
 "nbformat_minor": 5
}

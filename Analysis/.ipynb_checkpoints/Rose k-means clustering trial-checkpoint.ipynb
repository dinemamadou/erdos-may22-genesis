{
 "cells": [
  {
   "cell_type": "code",
   "execution_count": 1,
   "id": "1d88943a",
   "metadata": {},
   "outputs": [],
   "source": [
    "## For data handling\n",
    "import numpy as np\n",
    "import pandas as pd\n",
    "from sklearn.model_selection import train_test_split\n",
    "\n",
    "## For plotting\n",
    "import matplotlib.pyplot as plt\n",
    "import seaborn as sns\n",
    "\n",
    "\n",
    "## This sets the plot style\n",
    "## to have a grid on a dark background\n",
    "sns.set_style(\"darkgrid\")"
   ]
  },
  {
   "cell_type": "code",
   "execution_count": 2,
   "id": "d43993a1",
   "metadata": {},
   "outputs": [],
   "source": [
    "## import KMeans\n",
    "from sklearn.cluster import KMeans"
   ]
  },
  {
   "cell_type": "code",
   "execution_count": 8,
   "id": "69b4a117",
   "metadata": {},
   "outputs": [],
   "source": [
    "data = pd.read_csv('../Feature Extraction/midFeaturesAll.csv')"
   ]
  },
  {
   "cell_type": "code",
   "execution_count": 9,
   "id": "c710a758",
   "metadata": {},
   "outputs": [],
   "source": [
    "data_train, data_test = train_test_split(data.copy(),\n",
    "                                   shuffle=True,\n",
    "                                   random_state=608,\n",
    "                                   stratify=data.Emotion,\n",
    "                                   test_size=0.2\n",
    "                                   )"
   ]
  },
  {
   "cell_type": "code",
   "execution_count": 10,
   "id": "b02312b0",
   "metadata": {},
   "outputs": [],
   "source": [
    "# Get rid of the labels on the data before clustering\n",
    "\n",
    "X_train = data_train.drop(columns = ['FileID', 'actorID', 'Emotion', 'SentenceID' ])\n",
    "X_test = data_test.drop(columns = ['FileID', 'actorID', 'Emotion', 'SentenceID' ])\n"
   ]
  },
  {
   "cell_type": "code",
   "execution_count": 11,
   "id": "1dd9d8ae",
   "metadata": {},
   "outputs": [],
   "source": [
    "# make the kmeans object\n",
    "\n",
    "kmeans = KMeans(6)"
   ]
  },
  {
   "cell_type": "code",
   "execution_count": 12,
   "id": "0e7171ea",
   "metadata": {},
   "outputs": [
    {
     "data": {
      "text/plain": [
       "KMeans(n_clusters=6)"
      ]
     },
     "execution_count": 12,
     "metadata": {},
     "output_type": "execute_result"
    }
   ],
   "source": [
    "# fit to the training set\n",
    "\n",
    "kmeans.fit(X_train)"
   ]
  },
  {
   "cell_type": "code",
   "execution_count": 13,
   "id": "e116c0ec",
   "metadata": {},
   "outputs": [],
   "source": [
    "# get the predicted cluster numbers for points in the training set\n",
    "\n",
    "clusters = kmeans.predict(X_train)\n",
    "\n",
    "# Save the clusters to a .txt file, so we don't have to run this again!\n",
    "\n",
    "np.savetxt('pathname.txt', clusters)"
   ]
  },
  {
   "cell_type": "code",
   "execution_count": null,
   "id": "13a431d3",
   "metadata": {},
   "outputs": [],
   "source": []
  }
 ],
 "metadata": {
  "kernelspec": {
   "display_name": "Python 3 (ipykernel)",
   "language": "python",
   "name": "python3"
  },
  "language_info": {
   "codemirror_mode": {
    "name": "ipython",
    "version": 3
   },
   "file_extension": ".py",
   "mimetype": "text/x-python",
   "name": "python",
   "nbconvert_exporter": "python",
   "pygments_lexer": "ipython3",
   "version": "3.9.7"
  }
 },
 "nbformat": 4,
 "nbformat_minor": 5
}

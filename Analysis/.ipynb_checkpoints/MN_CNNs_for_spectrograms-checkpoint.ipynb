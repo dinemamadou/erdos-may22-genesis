{
  "cells": [
    {
      "cell_type": "code",
      "execution_count": null,
      "id": "19c0fe2f",
      "metadata": {
        "id": "19c0fe2f"
      },
      "outputs": [],
      "source": [
        "## For data handling\n",
        "import pandas as pd\n",
        "import numpy as np\n",
        "\n",
        "## For plotting\n",
        "import matplotlib.pyplot as plt\n",
        "from seaborn import set_style\n",
        "\n",
        "## This sets the plot style\n",
        "## to have a grid on a white background\n",
        "set_style(\"darkgrid\")"
      ]
    },
    {
      "cell_type": "code",
      "execution_count": null,
      "id": "faa4ddf9",
      "metadata": {
        "id": "faa4ddf9"
      },
      "outputs": [],
      "source": [
        "## Importing the things we need from keras\n",
        "from keras import models\n",
        "from keras import layers\n",
        "from keras import optimizers\n",
        "from keras import losses\n",
        "from keras import metrics\n",
        "from keras.utils.np_utils import to_categorical\n",
        "from keras.preprocessing.image import ImageDataGenerator"
      ]
    },
    {
      "cell_type": "code",
      "execution_count": null,
      "id": "83469e44",
      "metadata": {
        "id": "83469e44"
      },
      "outputs": [],
      "source": [
        "# Set the shape of the images to be loaded into the model:\n",
        "\n",
        "pixel_height = 200\n",
        "\n",
        "pixel_width = 200\n",
        "\n",
        "channels = 3\n",
        "\n",
        "\n",
        "# Type in the paths to the train, validation, and test directories here:\n",
        "\n",
        "train_dir = '../Data/spectrograms_cnn_base/train'\n",
        "test_dir = '../Data/spectrograms_cnn_base/test'\n",
        "validation_dir = '../Data/spectrograms_cnn_base/validation'\n",
        "\n",
        "\n",
        "\n",
        "\n"
      ]
    },
    {
      "cell_type": "code",
      "execution_count": null,
      "id": "e6061835",
      "metadata": {
        "id": "e6061835"
      },
      "outputs": [],
      "source": [
        "# Example model adapted from \"Deep Learning with Python\" textbook. Things we can play with are: how many convolution\n",
        "# layers, how many dense layers, number of nodes/stacks in each layer, and padding. \n",
        "\n",
        "\n",
        "model = models.Sequential()\n",
        "\n",
        "# First conv layer, followed by pooling layer:\n",
        "model.add(layers.Conv2D(32, (3, 3), activation = 'relu',\n",
        "          input_shape = (pixel_width, pixel_height, channels)))\n",
        "\n",
        "model.add(layers.MaxPooling2D((2, 2)))\n",
        "\n",
        "# Second conv layer, followed by pooling layer:\n",
        "\n",
        "\n",
        "model.add(layers.Conv2D(64, (3, 3), activation='relu'))\n",
        "model.add(layers.MaxPooling2D((2, 2)))\n",
        "\n",
        "\n",
        "# Third conv layer, followed by pooling layer:\n",
        "model.add(layers.Conv2D(128, (3, 3), activation='relu'))\n",
        "model.add(layers.MaxPooling2D((2, 2)))\n",
        "\n",
        "\n",
        "# Fourth conv layer, followed by pooling layer:\n",
        "model.add(layers.Conv2D(128, (3, 3), activation='relu'))\n",
        "model.add(layers.MaxPooling2D((2, 2)))\n",
        "\n",
        "\n",
        "# Flatten to 1d:\n",
        "model.add(layers.Flatten())\n",
        "\n",
        "# First dense layer, with 512 nodes:\n",
        "model.add(layers.Dense(512, activation='relu'))\n",
        "\n",
        "# Last dense layer, with 6 nodes (one per emotion):\n",
        "model.add(layers.Dense(6, activation='softmax'))\n",
        "\n",
        "\n",
        "\n",
        "\n",
        "\n",
        "\n",
        "\n",
        "\n",
        "\n",
        "\n",
        "\n",
        "\n",
        "\n",
        "\n",
        "\n",
        "\n"
      ]
    },
    {
      "cell_type": "code",
      "execution_count": null,
      "id": "3b103e7f",
      "metadata": {
        "id": "3b103e7f"
      },
      "outputs": [],
      "source": [
        "model.summary()"
      ]
    },
    {
      "cell_type": "code",
      "execution_count": null,
      "id": "482e5a03",
      "metadata": {
        "id": "482e5a03"
      },
      "outputs": [],
      "source": [
        "# Compile the network\n",
        "\n",
        "model.compile(optimizer='rmsprop',\n",
        "              loss='categorical_crossentropy',\n",
        "              metrics=['accuracy'])\n",
        "\n",
        "\n",
        "\n",
        "\n",
        "\n",
        "\n"
      ]
    },
    {
      "cell_type": "code",
      "execution_count": null,
      "id": "93625bb0",
      "metadata": {
        "id": "93625bb0"
      },
      "outputs": [],
      "source": [
        "# Create generators that will import and preprocess spectrograms in batches:\n",
        "\n",
        "train_datagen = ImageDataGenerator(rescale = 1./255) # rescale so values are between 0 and 1\n",
        "test_datagen = ImageDataGenerator(rescale = 1./255)  # rescale so values are between 0 and 1\n",
        "\n",
        "train_generator = train_datagen.flow_from_directory(\n",
        "                    train_dir,\n",
        "                    target_size = (pixel_width, pixel_height),\n",
        "                    batch_size = 20,\n",
        "                    class_mode = 'categorical')\n",
        "\n",
        "\n",
        "validation_generator = test_datagen.flow_from_directory(\n",
        "                    validation_dir,\n",
        "                    target_size = (pixel_width, pixel_height),\n",
        "                    batch_size = 20,\n",
        "                    class_mode = 'categorical')\n",
        "\n",
        "\n",
        "\n"
      ]
    },
    {
      "cell_type": "code",
      "execution_count": null,
      "id": "3abc57e4",
      "metadata": {
        "id": "3abc57e4"
      },
      "outputs": [],
      "source": [
        "# Fit the model using the generators from above:\n",
        "\n",
        "\n",
        "history = model.fit_generator(\n",
        "      train_generator,\n",
        "      steps_per_epoch=100,\n",
        "      epochs=30,\n",
        "      validation_data=validation_generator,\n",
        "      validation_steps=50)\n",
        "\n",
        "\n"
      ]
    },
    {
      "cell_type": "code",
      "execution_count": null,
      "id": "1904873a",
      "metadata": {
        "id": "1904873a"
      },
      "outputs": [],
      "source": [
        "# Save the model:\n",
        "\n",
        "model.save('pathname')"
      ]
    },
    {
      "cell_type": "code",
      "execution_count": null,
      "id": "0b5b2faf",
      "metadata": {
        "id": "0b5b2faf"
      },
      "outputs": [],
      "source": [
        ""
      ]
    }
  ],
  "metadata": {
    "kernelspec": {
      "display_name": "Python 3 (ipykernel)",
      "language": "python",
      "name": "python3"
    },
    "language_info": {
      "codemirror_mode": {
        "name": "ipython",
        "version": 3
      },
      "file_extension": ".py",
      "mimetype": "text/x-python",
      "name": "python",
      "nbconvert_exporter": "python",
      "pygments_lexer": "ipython3",
      "version": "3.9.7"
    },
    "colab": {
      "name": "MN_CNNs_for_spectrograms-checkpoint.ipynb",
      "provenance": []
    }
  },
  "nbformat": 4,
  "nbformat_minor": 5
}
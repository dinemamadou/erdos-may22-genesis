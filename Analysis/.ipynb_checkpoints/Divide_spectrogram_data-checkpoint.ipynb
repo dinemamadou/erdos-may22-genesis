{
 "cells": [
  {
   "cell_type": "code",
   "execution_count": 1,
   "id": "0b76004d",
   "metadata": {},
   "outputs": [],
   "source": [
    "import os, shutil"
   ]
  },
  {
   "cell_type": "code",
   "execution_count": null,
   "id": "dc057a63",
   "metadata": {},
   "outputs": [],
   "source": [
    "# Code to create a base folder that will contain the spectrograms for both train and test sets:\n",
    "\n",
    "base_dir = \n",
    "\n",
    "\n",
    "\n",
    "\n"
   ]
  },
  {
   "cell_type": "code",
   "execution_count": null,
   "id": "78dc4f34",
   "metadata": {},
   "outputs": [],
   "source": [
    "# Code to create a folder within the base folder for the train set:\n",
    "\n",
    "\n",
    "\n",
    "\n"
   ]
  },
  {
   "cell_type": "code",
   "execution_count": null,
   "id": "9cc91de1",
   "metadata": {},
   "outputs": [],
   "source": [
    "# Code to create a folder within the base folder for the test set:\n",
    "\n",
    "\n"
   ]
  },
  {
   "cell_type": "code",
   "execution_count": null,
   "id": "3721ddb1",
   "metadata": {},
   "outputs": [],
   "source": [
    "# Code to create 6 folders within train set folder (one per emotion):\n",
    "\n",
    "\n"
   ]
  },
  {
   "cell_type": "code",
   "execution_count": null,
   "id": "3771746f",
   "metadata": {},
   "outputs": [],
   "source": [
    "# Code to create 6 folders within test set folder (one per emotion):\n",
    "\n",
    "\n"
   ]
  },
  {
   "cell_type": "code",
   "execution_count": null,
   "id": "d38a18fa",
   "metadata": {},
   "outputs": [],
   "source": [
    "# Load spectrograms into folders, according to train/test split, and emotion:\n",
    "\n",
    "\n",
    "\n"
   ]
  }
 ],
 "metadata": {
  "kernelspec": {
   "display_name": "Python 3 (ipykernel)",
   "language": "python",
   "name": "python3"
  },
  "language_info": {
   "codemirror_mode": {
    "name": "ipython",
    "version": 3
   },
   "file_extension": ".py",
   "mimetype": "text/x-python",
   "name": "python",
   "nbconvert_exporter": "python",
   "pygments_lexer": "ipython3",
   "version": "3.8.8"
  }
 },
 "nbformat": 4,
 "nbformat_minor": 5
}

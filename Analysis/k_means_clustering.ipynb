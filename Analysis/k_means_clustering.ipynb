{
 "cells": [
  {
   "cell_type": "markdown",
   "id": "5997c5a2",
   "metadata": {},
   "source": [
    "# k-Means clustering on MidFeatures\n",
    "Let's compute k-means clusters and see if they are related at all to emotions"
   ]
  },
  {
   "cell_type": "code",
   "execution_count": 2,
   "id": "1d88943a",
   "metadata": {},
   "outputs": [],
   "source": [
    "## For data handling\n",
    "import numpy as np\n",
    "import pandas as pd\n",
    "from sklearn.model_selection import train_test_split\n",
    "\n",
    "## For plotting\n",
    "import matplotlib.pyplot as plt\n",
    "import seaborn as sns\n",
    "\n",
    "\n",
    "## This sets the plot style\n",
    "## to have a grid on a dark background\n",
    "sns.set_style(\"darkgrid\")"
   ]
  },
  {
   "cell_type": "code",
   "execution_count": 3,
   "id": "d43993a1",
   "metadata": {},
   "outputs": [],
   "source": [
    "## import KMeans\n",
    "from sklearn.cluster import KMeans"
   ]
  },
  {
   "cell_type": "markdown",
   "id": "063f954b",
   "metadata": {},
   "source": [
    "Load data and do train-test split."
   ]
  },
  {
   "cell_type": "code",
   "execution_count": 27,
   "id": "69b4a117",
   "metadata": {},
   "outputs": [],
   "source": [
    "data = pd.read_csv('../Data/Mid_features/midFeaturesTrainFinal2.csv')"
   ]
  },
  {
   "cell_type": "code",
   "execution_count": 28,
   "id": "c710a758",
   "metadata": {},
   "outputs": [],
   "source": [
    "data_train, data_test = train_test_split(data.copy(),\n",
    "                                   shuffle=True,\n",
    "                                   random_state=608,\n",
    "                                   stratify=data.Emotion,\n",
    "                                   test_size=0.2\n",
    "                                   )"
   ]
  },
  {
   "cell_type": "code",
   "execution_count": 29,
   "id": "b02312b0",
   "metadata": {},
   "outputs": [],
   "source": [
    "# Get rid of the labels on the data before clustering\n",
    "X_train = data_train.drop(columns = ['FileID', 'actorID', 'Emotion', 'SentenceID' ])\n",
    "X_test = data_test.drop(columns = ['FileID', 'actorID', 'Emotion', 'SentenceID' ])\n"
   ]
  },
  {
   "cell_type": "markdown",
   "id": "8a100951",
   "metadata": {},
   "source": [
    "## Compute k-Means clustering\n",
    "You only need to run this once because it saves the results to disk. You can skip to the analysis section if you already have a label file."
   ]
  },
  {
   "cell_type": "code",
   "execution_count": 30,
   "id": "1dd9d8ae",
   "metadata": {},
   "outputs": [],
   "source": [
    "# make the kmeans object\n",
    "kmeans = KMeans(6)\n",
    "\n",
    "# fit to the training set\n",
    "kmeans.fit(X_train)\n",
    "\n",
    "# get the predicted cluster numbers for points in the training set\n",
    "clusters = kmeans.predict(X_train)\n",
    "\n",
    "# Save the clusters to a .txt file, so we don't have to run this again!\n",
    "np.savetxt('k_means_labels.txt', clusters)"
   ]
  },
  {
   "cell_type": "markdown",
   "id": "1e68bcf4",
   "metadata": {},
   "source": [
    "## Analyze the k-Means results\n",
    "We plot the distribution of emotions in each cluster. If each cluster has mostly one emotion in it, we'll have a good idea of the structure of the dataset."
   ]
  },
  {
   "cell_type": "code",
   "execution_count": 31,
   "id": "7edbe9fc",
   "metadata": {},
   "outputs": [],
   "source": [
    "# load the clustering data from disk (if we didn't calculate it again)\n",
    "clusters = np.loadtxt('k_means_labels.txt').astype(int)"
   ]
  },
  {
   "cell_type": "code",
   "execution_count": 32,
   "id": "558bb81e",
   "metadata": {},
   "outputs": [
    {
     "name": "stdout",
     "output_type": "stream",
     "text": [
      "The data in cluster  0  have the following emotional frequencies:\n",
      "NEU    0.135458\n",
      "ANG    0.215139\n",
      "FEA    0.138114\n",
      "DIS    0.213811\n",
      "SAD    0.122178\n",
      "HAP    0.175299\n",
      "Name: Emotion, dtype: float64\n",
      "The data in cluster  1  have the following emotional frequencies:\n",
      "ANG    0.179592\n",
      "FEA    0.175510\n",
      "NEU    0.177551\n",
      "DIS    0.169388\n",
      "SAD    0.122449\n",
      "HAP    0.175510\n",
      "Name: Emotion, dtype: float64\n",
      "The data in cluster  2  have the following emotional frequencies:\n",
      "NEU    0.230871\n",
      "ANG    0.081794\n",
      "FEA    0.183377\n",
      "DIS    0.130607\n",
      "SAD    0.220317\n",
      "HAP    0.153034\n",
      "Name: Emotion, dtype: float64\n",
      "The data in cluster  3  have the following emotional frequencies:\n",
      "NEU    0.171838\n",
      "ANG    0.187351\n",
      "FEA    0.147971\n",
      "DIS    0.192124\n",
      "SAD    0.140811\n",
      "HAP    0.159905\n",
      "Name: Emotion, dtype: float64\n",
      "The data in cluster  4  have the following emotional frequencies:\n",
      "NEU    0.196676\n",
      "ANG    0.113573\n",
      "FEA    0.182825\n",
      "DIS    0.137119\n",
      "SAD    0.204986\n",
      "HAP    0.164820\n",
      "Name: Emotion, dtype: float64\n",
      "The data in cluster  5  have the following emotional frequencies:\n",
      "ANG    0.265487\n",
      "FEA    0.165192\n",
      "NEU    0.138643\n",
      "DIS    0.109145\n",
      "SAD    0.162242\n",
      "HAP    0.159292\n",
      "Name: Emotion, dtype: float64\n"
     ]
    }
   ],
   "source": [
    "data_train['Cluster'] = clusters\n",
    "\n",
    "# What are the proportions of different emotions in the different clusters?\n",
    "for c in range(6):\n",
    "    df = data_train.loc[data_train.Cluster == c]\n",
    "    emo_vals = df.Emotion.value_counts(normalize=True, sort=False)\n",
    "    print('The data in cluster ', c, ' have the following emotional frequencies:')\n",
    "    print(emo_vals)\n"
   ]
  },
  {
   "cell_type": "code",
   "execution_count": 33,
   "id": "5b50634c",
   "metadata": {},
   "outputs": [],
   "source": [
    "# Get a list L of dicts, where each dict has type emo:freq for one of the clusters\n",
    "L = []\n",
    "\n",
    "for c in range(6):\n",
    "    df = data_train.loc[data_train.Cluster == c]\n",
    "    emo_vals = df.Emotion.value_counts(normalize=True, sort=False)\n",
    "    dict = emo_vals.to_dict()\n",
    "    L.append(dict)\n",
    "\n"
   ]
  },
  {
   "cell_type": "code",
   "execution_count": 40,
   "id": "f1ef6418",
   "metadata": {},
   "outputs": [],
   "source": [
    "# Get a list L_emo_clusters_ordered, with entries lists of emo freqs for the clusters, \n",
    "# where emotions are ordered the same\n",
    "emotions = ['ANG', 'SAD', 'HAP', 'NEU', 'FEA', 'DIS']\n",
    "\n",
    "L_emo_clusters_ordered = []\n",
    "\n",
    "for c in range(6):\n",
    "    c_list = []\n",
    "    for emo in emotions:\n",
    "        freq = L[c][emo]\n",
    "        c_list.append(freq)\n",
    "    L_emo_clusters_ordered.append(c_list)\n",
    "\n"
   ]
  },
  {
   "cell_type": "code",
   "execution_count": 41,
   "id": "50fb77d7",
   "metadata": {},
   "outputs": [
    {
     "data": {
      "image/png": "[encoded data removed]",
      "text/plain": [
       "<Figure size 1080x432 with 6 Axes>"
      ]
     },
     "metadata": {},
     "output_type": "display_data"
    }
   ],
   "source": [
    "# Plot emotional frequency in each cluster as a bar chart\n",
    "fig, axes = plt.subplots(2, 3, figsize = (15,6), sharey=True)\n",
    "fig.suptitle('Emotions across clusters')\n",
    "\n",
    "\n",
    "axes[0, 0].bar(emotions, L_emo_clusters_ordered[0])\n",
    "axes[0, 0].set_title('Cluster 0')\n",
    "\n",
    "axes[0, 1].bar(emotions, L_emo_clusters_ordered[1])\n",
    "axes[0, 1].set_title('Cluster 1')\n",
    "\n",
    "axes[0, 2].bar(emotions, L_emo_clusters_ordered[2])\n",
    "axes[0, 2].set_title('Cluster 2')\n",
    "\n",
    "axes[1, 0].bar(emotions, L_emo_clusters_ordered[3])\n",
    "axes[1, 0].set_title('Cluster 3')\n",
    "\n",
    "axes[1, 1].bar(emotions, L_emo_clusters_ordered[4])\n",
    "axes[1, 1].set_title('Cluster 4')\n",
    "\n",
    "axes[1, 2].bar(emotions, L_emo_clusters_ordered[5])\n",
    "axes[1, 2].set_title('Cluster 5')\n",
    "\n",
    "plt.show()\n",
    "\n"
   ]
  },
  {
   "cell_type": "markdown",
   "id": "6bc8a29f",
   "metadata": {},
   "source": [
    "Unfortunately, there is no clear relationship between the k-means clusters and the emotions."
   ]
  },
  {
   "cell_type": "code",
   "execution_count": null,
   "id": "3a052ef6",
   "metadata": {},
   "outputs": [],
   "source": []
  }
 ],
 "metadata": {
  "kernelspec": {
   "display_name": "Python 3",
   "language": "python",
   "name": "python3"
  },
  "language_info": {
   "codemirror_mode": {
    "name": "ipython",
    "version": 3
   },
   "file_extension": ".py",
   "mimetype": "text/x-python",
   "name": "python",
   "nbconvert_exporter": "python",
   "pygments_lexer": "ipython3",
   "version": "3.9.7"
  }
 },
 "nbformat": 4,
 "nbformat_minor": 5
}
